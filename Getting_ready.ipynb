{
 "cells": [
  {
   "cell_type": "markdown",
   "metadata": {},
   "source": [
    "<div\n",
    "    style='background-image: url(\"images/_banner_.jpg\"); padding: 0px;\n",
    "    background-size: cover; border-radius: 10px; height: 250px;\n",
    "    background-position: 50% 50%'>\n",
    "    <div\n",
    "        style=\"float: left; margin: 20px; padding: 10px;\n",
    "        background: rgba(255 , 255 , 255 , 0.8); width: 40%; height: 100px;\n",
    "        border-radius: 10px\">\n",
    "        <div\n",
    "            style=\"position: relative; top: 50%;\n",
    "            transform: translatey(-50%)\">\n",
    "            <div\n",
    "                style=\"font-size: xx-large; font-weight: 900;\n",
    "                color: rgba(0 , 0 , 0 , 0.9);\n",
    "                line-height: 100%\">Python Workshop\n",
    "            </div>\n",
    "            <div\n",
    "                style=\"font-size: large; padding-top: 20px;\n",
    "                color: rgba(0 , 0 , 0 , 0.7)\">Getting ready\n",
    "            </div>\n",
    "        </div>\n",
    "    </div>\n",
    "    <div style=\"float: right; font-size: small;\n",
    "        position: relative; top: 90%; padding: 5px;\n",
    "        background: rgba(255 , 255 , 255 , 0.6); border-top-left-radius: 10px;\n",
    "        color: rgba(0 , 0 , 0 , 1)\">Shahar Shani-Kadmiel, CiTG, TU Delft\n",
    "    </div>\n",
    "</div>"
   ]
  },
  {
   "cell_type": "markdown",
   "metadata": {},
   "source": [
    "Welcome everyone to our introductory Python workshop. As we stated in the initial email, the purpose of this workshop is to help you dive into Python and do basic (or not so basic) data visualization, reading and writing files, prototyping processing workflows into reusable tools and more.\n",
    "\n",
    "# The dry details:\n",
    "\n",
    "- **When:** Friday 27 July 2018; 09:30 - 16:30\n",
    "- **Where:** CiTG KG 02.110\n",
    "\n",
    "---\n",
    "# Preparations\n",
    "\n",
    "We would like to jump directly into the workshop itself and not deal with support related issues on that day so please follow these steps prior to attending the workshop to get a functional python environment on your laptop.\n",
    "\n",
    "If you have a working python environment you can skip the next step and go directly to step [#2](#2.-Install-packages) but please follow step [#3](#3.-Test-your-environment) to test your environment."
   ]
  },
  {
   "cell_type": "markdown",
   "metadata": {},
   "source": [
    "## 1. Download [Miniconda](https://conda.io/miniconda.html):\n",
    "\n",
    "[Miniconda](https://conda.io/miniconda.html) is a mini version of [Anaconda](https://www.anaconda.com/) that includes only **`conda`** and its dependencies. Follow the installation instruction ([Linux](https://conda.io/docs/user-guide/install/linux.html#installing-on-linux), [OSX or macOS](https://conda.io/docs/user-guide/install/macos.html#installing-on-macos)) to get started on your system.\n",
    "\n",
    "In short, this will include:\n",
    "\n",
    "1. Downloading the `Miniconda3-latest-*-x86_64.sh`, where `*` will be either `MacOSX` or `Linux`.\n",
    "2. Installing miniconda by firing up the Terminal and typing:\n",
    "```bash\n",
    "cd Downloads/\n",
    "bash Miniconda3-latest-*-x86_64.sh\n",
    "```\n",
    "3. Agreeing to the *license terms* (type `yes`)\n",
    "4. Accept the default install location proposed by the installer (press *Enter*)\n",
    "5. Allow Miniconda to prepend the install location to the PATH (type `yes`)"
   ]
  },
  {
   "cell_type": "markdown",
   "metadata": {},
   "source": [
    "---\n",
    "## 2. Install packages\n",
    "\n",
    "Restart your Terminal so that the new entry to your PATH takes effect. You should now be able to type `conda` in the Terminal command prompt and see the conda help message.\n",
    "\n",
    "Conda is a smart tool for package, dependency and environment management for many languages. You can read more about it [here](https://conda.io/docs/index.html), ***but you don't have to***.\n",
    "\n",
    "To install the packages we need for the workshop copy and paste the following into the Terminal:\n",
    "\n",
    "```bash\n",
    "conda config --add channels conda-forge && conda install -y ipython notebook ipywidgets numpy scipy pandas gdal matplotlib basemap basemap-data-hires cython sympy obspy\n",
    "```\n",
    "\n",
    "This may take a couple of minutes and will result is many other packages getting installed as *conda* takes care of package dependencies for you."
   ]
  },
  {
   "cell_type": "markdown",
   "metadata": {},
   "source": [
    "---\n",
    "## 3. Test your environment\n",
    "\n",
    "To make sure you are *good-to-go*, type `jupyter-notebook` in the Terminal. A browser window should open and you should be able to start a new Python 3 Notebook.\n",
    "\n",
    "![jupyter-notebook](images/jupyter-notebook.png)\n",
    "\n",
    "Copy the following `import` commands to the code cell in the newly opened notebook session:\n",
    "\n",
    "```python\n",
    "import numpy\n",
    "import scipy\n",
    "import pandas\n",
    "import gdal\n",
    "import matplotlib\n",
    "from mpl_toolkits.basemap import Basemap\n",
    "import cython\n",
    "import sympy\n",
    "import obspy\n",
    "import ipywidgets\n",
    "```\n",
    "\n",
    "![testing_imports](images/testing_imports.png)\n",
    "\n",
    "Execute the code in the cell by pressing <kbd>Shift</kbd> + <kbd>Enter</kbd> (<kbd>⇧↩</kbd>) or clicking the <button class=\"btn btn-default\" title=\"Run\" style=\"padding: 1px 5px\"><i class=\"fa-step-forward fa\"></i><span class=\"toolbar-btn-label\">Run</span></button> button.\n",
    "\n",
    "It is alright if you get some warnings but if you get an error message please come see me so we can solve this before the workshop. If a new code cell is created like in the above screenshot you are *good-to-go*."
   ]
  },
  {
   "cell_type": "markdown",
   "metadata": {},
   "source": [
    "---\n",
    "## This is it. See you at the workshop..."
   ]
  }
 ],
 "metadata": {
  "kernelspec": {
   "display_name": "Python 3",
   "language": "python",
   "name": "python3"
  },
  "language_info": {
   "codemirror_mode": {
    "name": "ipython",
    "version": 3
   },
   "file_extension": ".py",
   "mimetype": "text/x-python",
   "name": "python",
   "nbconvert_exporter": "python",
   "pygments_lexer": "ipython3",
   "version": "3.6.4"
  },
  "toc": {
   "nav_menu": {},
   "number_sections": false,
   "sideBar": true,
   "skip_h1_title": false,
   "toc_cell": false,
   "toc_position": {},
   "toc_section_display": "block",
   "toc_window_display": false
  },
  "varInspector": {
   "cols": {
    "lenName": 16,
    "lenType": 16,
    "lenVar": 40
   },
   "kernels_config": {
    "python": {
     "delete_cmd_postfix": "",
     "delete_cmd_prefix": "del ",
     "library": "var_list.py",
     "varRefreshCmd": "print(var_dic_list())"
    },
    "r": {
     "delete_cmd_postfix": ") ",
     "delete_cmd_prefix": "rm(",
     "library": "var_list.r",
     "varRefreshCmd": "cat(var_dic_list()) "
    }
   },
   "types_to_exclude": [
    "module",
    "function",
    "builtin_function_or_method",
    "instance",
    "_Feature"
   ],
   "window_display": false
  }
 },
 "nbformat": 4,
 "nbformat_minor": 2
}

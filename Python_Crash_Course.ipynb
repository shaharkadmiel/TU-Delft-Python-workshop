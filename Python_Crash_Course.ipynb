{
 "cells": [
  {
   "cell_type": "markdown",
   "metadata": {},
   "source": [
    "<div\n",
    "    style='background-image: url(\"images/_banner_.jpg\"); padding: 0px;\n",
    "    background-size: cover; border-radius: 10px; height: 250px;\n",
    "    background-position: 50% 50%'>\n",
    "    <div\n",
    "        style=\"float: left; margin: 20px; padding: 10px;\n",
    "        background: rgba(255 , 255 , 255 , 0.8); width: 40%; height: 100px;\n",
    "        border-radius: 10px\">\n",
    "        <div\n",
    "            style=\"position: relative; top: 50%;\n",
    "            transform: translatey(-50%)\">\n",
    "            <div\n",
    "                style=\"font-size: xx-large; font-weight: 900;\n",
    "                color: rgba(0 , 0 , 0 , 0.9);\n",
    "                line-height: 100%\">Python Workshop\n",
    "            </div>\n",
    "            <div\n",
    "                style=\"font-size: large; padding-top: 20px;\n",
    "                color: rgba(0 , 0 , 0 , 0.7)\">Python crash course\n",
    "            </div>\n",
    "        </div>\n",
    "    </div>\n",
    "    <div style=\"float: right; font-size: small;\n",
    "        position: relative; top: 90%; padding: 5px;\n",
    "        background: rgba(255 , 255 , 255 , 0.6); border-top-left-radius: 10px;\n",
    "        color: rgba(0 , 0 , 0 , 1)\">Shahar Shani-Kadmiel, CiTG, TU Delft\n",
    "    </div>\n",
    "</div>"
   ]
  },
  {
   "cell_type": "markdown",
   "metadata": {},
   "source": [
    "This notebook (inspired by [Lion Krischer](https://github.com/krischer)) is a very quick introduction to Python and in particular its scientific ecosystem in case you have never seen it before. It furthermore grants a possibility to get to know the [IPython/Jupyter notebook](http://www.nature.com/news/interactive-notebooks-sharing-the-code-1.16261). [See here for the official documentation](http://nbviewer.jupyter.org/github/jupyter/notebook/blob/master/docs/source/examples/Notebook/Notebook%20Basics.ipynb) of the Jupyter notebook - a ton more information can be found online.\n",
    "\n",
    "\n",
    "A lot of motivational writing on *Why Python?* is out there so we will not repeat it here and just condense it to a single sentence:\n",
    "\n",
    "***Python is a good and easy to learn, open-source, general purpose programming language that happens to be very good for many scientific tasks (due to its vast scientific ecosystem).***\n",
    "\n",
    "---\n",
    "\n",
    "## Quick Reference on How to Use This Notebook\n",
    "\n",
    "\n",
    "![toolbar](images/toolbar.png)\n",
    "\n",
    "* <kbd>Shift</kbd> + <kbd>Enter</kbd> (<kbd>⇧↩</kbd>): Execute cell and jump to the next cell\n",
    "* <kbd>I</kbd>,<kbd>I</kbd>: Interrupt execution\n",
    "* <kbd>0</kbd>,<kbd>0</kbd>: Restart kernel\n",
    "* <kbd>A</kbd>: Insert cell above\n",
    "* <kbd>B</kbd>: Insert cell below\n",
    "* <kbd>D</kbd>,<kbd>D</kbd>: Delete cell\n",
    "\n",
    "Keyboard shortcuts are useful as they save you time pointing your cursor to click buttons. It is worth spending some time to learn them. To see all available shortcuts (and even edit them, *if you really want to*) hit <kbd>H</kbd>.\n",
    "\n",
    "---\n",
    "### Exercise\n",
    "\n",
    "This is a code cell, execute it. Try to add a cell above it and below it."
   ]
  },
  {
   "cell_type": "code",
   "execution_count": null,
   "metadata": {
    "ExecuteTime": {
     "end_time": "2018-07-25T09:27:31.839751Z",
     "start_time": "2018-07-25T09:27:31.818071Z"
    }
   },
   "outputs": [],
   "source": [
    "# execute this cell by pressing shift + enter\n",
    "print('Welcome to this fabulous workshop!')"
   ]
  },
  {
   "cell_type": "markdown",
   "metadata": {},
   "source": [
    "### Notebook vs. Script and CLI\n",
    "\n",
    "In this workshop we will mostly work inside Jupyter-Notebooks but these are only one way of using Python. Writing scripts to text files and executing them with the Python interpreter of course also works:\n",
    "\n",
    "```bash\n",
    "$ python some_script.py\n",
    "```\n",
    "\n",
    "Another alternative is interactive usage on the command line:\n",
    "\n",
    "```bash\n",
    "$ ipython\n",
    "```\n",
    "\n",
    "We will see some tricks to combine all three in the prototyping phase of a project."
   ]
  },
  {
   "cell_type": "markdown",
   "metadata": {},
   "source": [
    "---\n",
    "### *Notebooks are excellent for teaching!*\n",
    "\n",
    "#### Curve fitting interactive example:"
   ]
  },
  {
   "cell_type": "code",
   "execution_count": null,
   "metadata": {
    "ExecuteTime": {
     "end_time": "2018-07-25T09:27:35.190674Z",
     "start_time": "2018-07-25T09:27:34.894747Z"
    },
    "scrolled": false
   },
   "outputs": [],
   "source": [
    "%matplotlib notebook\n",
    "from ipywidgets import interactive, fixed, HBox, VBox\n",
    "\n",
    "import numpy as np\n",
    "import matplotlib.pyplot as plt\n",
    "\n",
    "from scipy.optimize import curve_fit\n",
    "\n",
    "\n",
    "def f(x, a, mu, sigma):\n",
    "    \"\"\"\n",
    "    PDF of a normal distribution.\n",
    "    \n",
    "    Parameters\n",
    "    ----------\n",
    "    x : array\n",
    "        Values for which to calculate P(x).\n",
    "        \n",
    "    a : float\n",
    "        Amplitude of the function.\n",
    "        \n",
    "    mu : float\n",
    "        The mean of the distribution.\n",
    "        \n",
    "    sigma : float\n",
    "        The standard deviation.\n",
    "    \n",
    "    Returns\n",
    "    -------\n",
    "    P(x) : array\n",
    "        The normal distribution PDF.\n",
    "    \"\"\"\n",
    "    return a * np.exp(-(x - mu)**2 / (2 * sigma**2))\n",
    "\n",
    "\n",
    "def make_data(x, a=1, mu=0, sigma=1, n=25, noise=0.1):\n",
    "    \"\"\"\n",
    "    Generate some data by modeling the normal distribution PDF and\n",
    "    adding noise.\n",
    "    \n",
    "    Parameters\n",
    "    ----------\n",
    "    x : array\n",
    "        Values for which to calculate P(x).\n",
    "        \n",
    "    a : float, optional\n",
    "        Amplitude of the function.\n",
    "        \n",
    "    mu : float, optional\n",
    "        The mean of the distribution.\n",
    "        \n",
    "    sigma : float, optional\n",
    "        The standard deviation.\n",
    "        \n",
    "    n : int, optional\n",
    "        Number of data points to generate.\n",
    "        \n",
    "    niose : float, optional\n",
    "        Fraction of the amplitude to add to teh ideal data.\n",
    "    \n",
    "    Returns\n",
    "    -------\n",
    "    P_noisy(x) : array\n",
    "        The normal distribution PDF with noise added.\n",
    "    \"\"\"\n",
    "    data = f(x, a, mu, sigma) + noise * a * (np.random.rand(n) * 2 - 1)\n",
    "    return data\n",
    "    \n",
    "\n",
    "def fit(xy_data, x_model, model, p0=None):\n",
    "    \"\"\"\n",
    "    Wrapper of SciPy's curve_fit function.\n",
    "    \n",
    "    Parameters\n",
    "    ----------\n",
    "    xy_data : tuple\n",
    "        A tuple of 2x1d arrays with x, y data to fit.\n",
    "        \n",
    "    x_model : array\n",
    "        An array of x points at which the fitted function will be\n",
    "        evaluated.\n",
    "        \n",
    "    model : callable\n",
    "        The model function to use for fitting.\n",
    "        \n",
    "    p0 : array_like, optional\n",
    "        An initial guess for the fitting parameters.\n",
    "        \n",
    "    Returns\n",
    "    -------\n",
    "    P_fitted(x) : tuple\n",
    "        P at points x_model evaluated by the fitted curve.\n",
    "        \n",
    "    p_opt : array\n",
    "        An array of the optimized parameters in the curve fitting.\n",
    "        \n",
    "    p_cov : array\n",
    "        Covariance matrix of the parameters.\n",
    "    \"\"\"\n",
    "    p_opt, p_cov = curve_fit(model, *xy_data, p0=p0)\n",
    "    return model(x_model, *p_opt), p_opt, p_cov\n",
    "\n",
    "def init_plot(xy_data, xy_model, xy_ideal):\n",
    "    \"\"\"\n",
    "    Initialize the figure axes and canvas with data. The scatter points\n",
    "    and lines will then be updated from an interactive function that\n",
    "    does not regenerate the entire figure in every interaction.\n",
    "    \n",
    "    Parameters\n",
    "    ----------\n",
    "    xy_data, xy_model, xy_ideal : tuples\n",
    "        Tuples of 2x1d arrays of x, y points representing the data, the\n",
    "        fitted model, and the ideal model, respectively.\n",
    "        \n",
    "    Returns\n",
    "    -------\n",
    "    fig, ax, sp_data, l_fit, l_model :\n",
    "        figure and axes instances, scatter-point instance of the noisy\n",
    "        data, line instance of the fitted curve, line instance of the\n",
    "        ideal curve.\n",
    "    \"\"\"\n",
    "    \n",
    "    fig, ax = plt.subplots(figsize=(7, 5))\n",
    "    sp_data = ax.scatter(*xy_data, s=20, c='none', edgecolors='k', label='Data')\n",
    "\n",
    "    l_fit, = ax.plot(*xy_model, label='Fit')\n",
    "    l_model, = ax.plot(*xy_ideal, '--', label='Model')\n",
    "    \n",
    "    ax.grid()\n",
    "    ax.legend(loc=8, ncol=3, handletextpad=0.5)\n",
    "    ax.set_xlabel('x')\n",
    "    ax.set_ylabel('P(x)')\n",
    "    ax.set_title('Curve Fitting is Fun!')\n",
    "    \n",
    "    return fig, ax, sp_data, l_fit, l_model\n",
    "\n",
    "a = 1\n",
    "mu = 0\n",
    "sigma = 1\n",
    "n = 25\n",
    "noise = 0.1\n",
    "\n",
    "xmin, xmax = mu - 3 * sigma, mu + 3 * sigma\n",
    "x_data = (np.random.rand(n) * 2 - 1) * 0.5 * (xmax - xmin) + mu\n",
    "y_data = make_data(x_data, a, mu, sigma, n, noise)\n",
    "\n",
    "x_model = np.linspace(xmin, xmax, 2 * n)\n",
    "\n",
    "y_model, p_opt, p_cov = fit((x_data, y_data), x_model, f)\n",
    "\n",
    "y_ideal = f(x_model, a, mu, sigma)\n",
    "\n",
    "fig, ax, sp_data, l_fit, l_model = init_plot((x_data, y_data),\n",
    "                                             (x_model, y_model),\n",
    "                                             (x_model, y_ideal))\n",
    "\n",
    "def update_plot(fig, ax, sp_data, l_fit, l_model,\n",
    "                a=1, mu=0, sigma=1, n=25, noise=0.1):\n",
    "    xmin, xmax = mu - 3 * sigma, mu + 3 * sigma\n",
    "    x_data = (np.random.rand(n) * 2 - 1) * 0.5 * (xmax - xmin) + mu\n",
    "    y_data = make_data(x_data, a, mu, sigma, n, noise)\n",
    "    \n",
    "    sp_data.set_offsets(np.column_stack((x_data, y_data)))\n",
    "    pad = y_data.ptp() * 0.05\n",
    "    ax.set_ylim(y_data.min() - pad, y_data.max() + pad)\n",
    "    ax.set_xlim(xmin, xmax)\n",
    "\n",
    "    x_model = np.linspace(xmin, xmax, 2 * n)\n",
    "    y_model, p_opt, p_cov = fit((x_data, y_data), x_model, f)\n",
    "    \n",
    "    l_fit.set_data(x_model, y_model)\n",
    "    l_model.set_data(x_model, f(x_model, a, mu, sigma))\n",
    "\n",
    "    print('{:<15} {:>15} {:>15}'.format('', 'Model params', 'Fit params'))\n",
    "    print('{:<15} {:15} {:15.5f}'.format('Amplitude', a, p_opt[0]))\n",
    "    print('{:<15} {:15} {:15.5f}'.format('Mean', mu, p_opt[1]))\n",
    "    print('{:<15} {:15} {:15.5f}'.format('Stand. Dev.', sigma, p_opt[2]))\n",
    "    \n",
    "\n",
    "w = interactive(\n",
    "    update_plot, fig=fixed(fig), ax=fixed(ax),\n",
    "    sp_data=fixed(sp_data), l_fit=fixed(l_fit), l_model=fixed(l_model),\n",
    "    a=(0.5, 5, 0.5), mu=(-5, 5, 0.5), sigma=(0, 2, 0.2), n=(10, 100, 1),\n",
    "    noise=(0, 1, 0.1))\n",
    "\n",
    "controls = VBox([HBox(w.children[:-1]), w.children[-1]])\n",
    "controls.children[0].layout.flex_flow = 'row wrap'\n",
    "controls.children[0].layout.justify_content = 'center'\n",
    "controls.layout.flex_flow = 'row wrap'\n",
    "controls.layout.justify_content = 'center'\n",
    "controls\n",
    "# w"
   ]
  },
  {
   "cell_type": "markdown",
   "metadata": {},
   "source": [
    "#### Superposition of Sines interactive example:"
   ]
  },
  {
   "cell_type": "code",
   "execution_count": null,
   "metadata": {
    "ExecuteTime": {
     "end_time": "2018-07-25T09:28:01.185832Z",
     "start_time": "2018-07-25T09:28:00.956483Z"
    },
    "scrolled": false
   },
   "outputs": [],
   "source": [
    "%matplotlib notebook\n",
    "from ipywidgets import interactive, fixed, HBox, VBox\n",
    "\n",
    "import numpy as np\n",
    "import matplotlib.pyplot as plt\n",
    "\n",
    "from scipy.optimize import curve_fit\n",
    "\n",
    "def sine(x, a=1, f=1, phase=0):\n",
    "    phase = np.radians(phase)\n",
    "    return a * np.sin(2 * np.pi * f * (x - phase))\n",
    "\n",
    "\n",
    "def spectrum(signal, dt):\n",
    "    freq = np.fft.rfftfreq(signal.size, dt)\n",
    "    amp = np.abs(np.fft.rfft(signal)) * 2 / signal.size\n",
    "    return freq, amp\n",
    "\n",
    "\n",
    "def make_data(x_bound=2 * np.pi, dt=0.05,\n",
    "              a1=1, f1=1, phase1=0,\n",
    "              a2=0.5, f2=0.5, phase2=0):\n",
    "    \n",
    "    x = np.arange(-x_bound, x_bound, dt)\n",
    "    \n",
    "    signal1 = sine(x, a1, f1, phase1)\n",
    "    signal2 = sine(x, a2, f2, phase2)\n",
    "    signal3 = signal1 + signal2\n",
    "    \n",
    "    freq, amp1 = spectrum(signal1, dt)\n",
    "    freq, amp2 = spectrum(signal2, dt)\n",
    "    freq, amp3 = spectrum(signal3, dt)\n",
    "    \n",
    "    return x, signal1, signal2, signal3, freq, amp1, amp2, amp3\n",
    "    \n",
    "\n",
    "def init_plot(x, signal1, signal2, signal3,\n",
    "              freq, amp1, amp2, amp3):\n",
    "    \n",
    "    fig, ax = plt.subplots(\n",
    "        2, 2, sharex='col', sharey='col',\n",
    "        gridspec_kw=dict(bottom=0.15, hspace=0.06, wspace=0.03,\n",
    "                         width_ratios=(2, 1)),\n",
    "        figsize=(7, 5))\n",
    "    \n",
    "    ((ax1, ax11), (ax2, ax22)) = ax\n",
    "\n",
    "    l_s3, = ax1.plot(x, signal3, 'k')\n",
    "    ax1.yaxis.tick_left()\n",
    "    ax1.set_title('Signals')\n",
    "\n",
    "    \n",
    "    l_fs3, = ax11.semilogx(freq, amp3, 'k')\n",
    "    ax11.grid(True, which='both', lw=0.5)\n",
    "    ax11.yaxis.tick_right()\n",
    "    ax11.set_title('Fourier Spectrum')\n",
    "\n",
    "    l_s1, l_s2 = ax2.plot(x, signal1, x, signal2)\n",
    "    ax2.yaxis.tick_left()\n",
    "    ax2.set_xlabel('Time, s')\n",
    "    ax2.set_ylabel('Amplitude')\n",
    "\n",
    "    \n",
    "    l_fs1, l_fs2 = ax22.semilogx(freq, amp1, freq, amp2)\n",
    "    ax22.grid(True, which='both', lw=0.5)\n",
    "    ax22.set_xlabel('Frequency, Hz')\n",
    "    ax22.yaxis.tick_right()\n",
    "    ax22.yaxis.set_label_position('right')\n",
    "    ax22.set_ylabel('Amplitude')\n",
    "    \n",
    "    return fig, ax, l_s1, l_s2, l_s3, l_fs1, l_fs2, l_fs3\n",
    "\n",
    "\n",
    "label_template = 'a={}, f={}, phase={}'\n",
    "fig, ax, l_s1, l_s2, l_s3, l_fs1, l_fs2, l_fs3 = init_plot(\n",
    "    *make_data())\n",
    "\n",
    "\n",
    "def update_plot(fig, ax, l_s1, l_s2, l_s3, l_fs1, l_fs2, l_fs3,\n",
    "                x_bound=2 * np.pi, dt=0.05,\n",
    "                a1=1, f1=1, phase1=0, a2=0.5, f2=0.5, phase2=0):\n",
    "    \n",
    "    x, signal1, signal2, signal3, freq, amp1, amp2, amp3 = make_data(\n",
    "        x_bound, dt, a1, f1, phase1, a2, f2, phase2)\n",
    "\n",
    "    \n",
    "    l_s1.set_data(x, signal1)\n",
    "    l_s2.set_data(x, signal2)\n",
    "    l_s3.set_data(x, signal3)\n",
    "    l_fs1.set_data(freq, amp1)\n",
    "    l_fs2.set_data(freq, amp2)\n",
    "    l_fs3.set_data(freq, amp3)\n",
    "    \n",
    "    l_s1.set_label(label_template.format(a1, f1, phase1))\n",
    "    l_s2.set_label(label_template.format(a2, f2, phase2))\n",
    "    \n",
    "    ((ax1, ax11), (ax2, ax22)) = ax\n",
    "    ax1.set_xlim(x[0], x[-1])\n",
    "    ax11.set_xlim(freq[1], freq[-1])\n",
    "    \n",
    "    ax1.set_ylim(signal3.min(), signal3.max())\n",
    "    ax11.set_ylim(amp3.min(), amp3.max())\n",
    "    \n",
    "    ax2.legend([label_template.format(a1, f1, phase1),\n",
    "                label_template.format(a2, f2, phase2)],\n",
    "               loc=9, bbox_to_anchor=(0.5, -0.25), ncol=2)\n",
    "    \n",
    "    \n",
    "\n",
    "w = interactive(\n",
    "    update_plot, fig=fixed(fig), ax=fixed(ax),\n",
    "    l_s1 = fixed(l_s1), l_s2 = fixed(l_s2), l_s3 = fixed(l_s3),\n",
    "    l_fs1 = fixed(l_fs1), l_fs2 = fixed(l_fs2), l_fs3 = fixed(l_fs3),\n",
    "    x_bound=(2 * np.pi, 20 * np.pi, np.pi), dt=(0.001, 0.1, 0.001),\n",
    "    a1=(0, 10, 0.5), f1=(0.1, 2, 0.1), phase1=(0, 360, 15),\n",
    "    a2=(0, 10, 0.5), f2=(0.1, 2, 0.1), phase2=(0, 360, 15))\n",
    "\n",
    "controls = VBox([HBox(w.children[:2]),\n",
    "                 HBox([VBox(w.children[2:5]), VBox(w.children[5:])])])\n",
    "controls.layout.align_items = 'center'\n",
    "controls"
   ]
  },
  {
   "cell_type": "markdown",
   "metadata": {},
   "source": [
    "---\n",
    "\n",
    "## Useful Links\n",
    "\n",
    "Here is collection of resources regarding the scientific Python ecosystem. They cover a number of different packages and topics; way more than we will manage today.\n",
    "\n",
    "If you have any question regarding some specific Python functionality you can consult the official [Python documentation](http://docs.python.org/).\n",
    " \n",
    "Furthermore a large number of Python tutorials, introductions, and books are available online. Here are some examples for those interested in learning more.\n",
    " \n",
    "* [Learn Python The Hard Way](http://learnpythonthehardway.org/book/)\n",
    "* [Dive Into Python](http://www.diveintopython.net/)\n",
    "* [The Official Python Tutorial](http://docs.python.org/2/tutorial/index.html)\n",
    "* [Think Python Book](http://www.greenteapress.com/thinkpython/thinkpython.html)\n",
    " \n",
    "Some people might be used to Matlab - this helps:\n",
    " \n",
    "* [NumPy for Matlab Users Introdution](http://wiki.scipy.org/NumPy_for_Matlab_Users)\n",
    "* [NumPy for Matlab Users Cheatsheet](http://mathesaurus.sourceforge.net/matlab-numpy.html)\n",
    " \n",
    " \n",
    "Additionally there is an abundance of resources introducing and teaching parts of the scientific Python ecosystem.\n",
    " \n",
    "* [NumPy Tutorial](http://wiki.scipy.org/Tentative_NumPy_Tutorial)\n",
    "* [Probabilistic Programming and Bayesian Methods for Hackers](http://camdavidsonpilon.github.io/Probabilistic-Programming-and-Bayesian-Methods-for-Hackers/): Great ebook introducing Bayesian methods from an understanding-first point of view with the examples done in Python.\n",
    "* [Python Scientific Lecture Notes](http://scipy-lectures.github.io/): Introduces the basics of scientific Python with lots of examples.\n",
    "* [Python for Signal Processing](http://python-for-signal-processing.blogspot.de/): Free blog which is the basis of a proper book written on the subject.\n",
    "* [Another NumPy Tutorial](http://www.loria.fr/~rougier/teaching/numpy/numpy.html), [Matplotlib Tutorial](http://www.loria.fr/~rougier/teaching/matplotlib/matplotlib.html)\n",
    " \n",
    "You might eventually have a need to create some custom plots. The quickest way to success is usually to start from some example that is somewhat similar to what you want to achieve and just modify it. These websites are good starting points:\n",
    " \n",
    "* [Matplotlib Gallery](http://matplotlib.org/gallery.html)\n",
    "* [ObsPy Gallery](http://docs.obspy.org/gallery.html)\n",
    "* [Basemap Gallery](http://matplotlib.org/basemap/users/examples.html)\n",
    "\n",
    "---"
   ]
  },
  {
   "cell_type": "markdown",
   "metadata": {},
   "source": [
    "## Core Python Crash Course\n",
    "\n",
    "This part is fairly non-interactive and serves to get you up to speed with Python assuming you have practical programming experience with at least one other language. Nonetheless please change things and play around on your own - it is the only way to really learn it!\n",
    "\n",
    "### Numbers\n",
    "\n",
    "Python is dynamically typed and assigning something to a variable will give it that type."
   ]
  },
  {
   "cell_type": "code",
   "execution_count": null,
   "metadata": {
    "ExecuteTime": {
     "end_time": "2018-07-25T09:30:51.275318Z",
     "start_time": "2018-07-25T09:30:51.248410Z"
    }
   },
   "outputs": [],
   "source": [
    "# Three basic types of numbers\n",
    "a = 1             # Integers\n",
    "b = 2.0           # Floating Point Numbers\n",
    "c = 3.0 + 4j      # Complex Numbers, note the use of j for the complex part\n",
    "\n",
    "print(type(a), type(b), type(c))\n",
    "\n",
    "# Arithmetics work as expected.\n",
    "# Upcasting from int -> float -> complex\n",
    "d = a + b         # (int + float = float)\n",
    "print(d)\n",
    "\n",
    "e = c**2        # c to the second power, performs a complex multiplication\n",
    "print(e)"
   ]
  },
  {
   "cell_type": "markdown",
   "metadata": {},
   "source": [
    "### Strings"
   ]
  },
  {
   "cell_type": "markdown",
   "metadata": {},
   "source": [
    "Just enclose something in single or double quotes and it will become a string. On Python 3 it defaults to unicode strings, e.g. non Latin alphabets and other symbols."
   ]
  },
  {
   "cell_type": "code",
   "execution_count": null,
   "metadata": {
    "ExecuteTime": {
     "end_time": "2018-07-25T09:30:59.932299Z",
     "start_time": "2018-07-25T09:30:59.904012Z"
    }
   },
   "outputs": [],
   "source": [
    "# You can use single or double quotes to create strings.\n",
    "location = \"Delft, The Netherlands\"\n",
    "\n",
    "# Concatenate strings with plus.\n",
    "where_am_i = 'I am in ' + location + '.'\n",
    "\n",
    "# Print things with the print() function.\n",
    "print(location, 1, 2, 3 / 2)\n",
    "print(where_am_i)\n",
    "\n",
    "# Strings have a lot of attached methods for common manipulations.\n",
    "print(location.lower())\n",
    "print(location.upper())\n",
    "\n",
    "# Square bracket are used for indexing. Negative indices are from the back.\n",
    "print(location[0], location[-1])\n",
    "\n",
    "# ...and slicing.\n",
    "print(where_am_i[5: 22])\n",
    "print(where_am_i[5: -5])"
   ]
  },
  {
   "cell_type": "markdown",
   "metadata": {},
   "source": [
    "#### Exercise\n",
    "\n",
    "Assign your full name in **all** lower-case letters to a variable, and print it, capitalizing the first letter of each part. *Protip: [Google for \"titlecase a string in python\"](https://www.google.com/search?&q=titlecase+a+string+in+python)*. This works for almost any programming problem - someone will have had the same issue before!"
   ]
  },
  {
   "cell_type": "code",
   "execution_count": null,
   "metadata": {
    "ExecuteTime": {
     "end_time": "2018-07-25T09:31:24.290436Z",
     "start_time": "2018-07-25T09:31:24.265615Z"
    }
   },
   "outputs": [],
   "source": [
    "# enter code here (2 lines)\n",
    "\n"
   ]
  },
  {
   "cell_type": "markdown",
   "metadata": {},
   "source": [
    "### Collections"
   ]
  },
  {
   "cell_type": "markdown",
   "metadata": {},
   "source": [
    "Python has three main collection types: Tuples, Lists and Dictionaries.\n",
    "\n",
    "#### Tuples"
   ]
  },
  {
   "cell_type": "code",
   "execution_count": null,
   "metadata": {
    "ExecuteTime": {
     "end_time": "2018-07-25T09:31:33.315626Z",
     "start_time": "2018-07-25T09:31:33.287998Z"
    }
   },
   "outputs": [],
   "source": [
    "# Tuples use round brackets and are simple ordered collections of things.\n",
    "tuple_everything = ('hello', a, b, c, 1, 2, 3)\n",
    "print(type(tuple_everything))\n",
    "\n",
    "# Access elements with the same slicing/indexing notation as strings.\n",
    "# Note that Python indices are zero based!\n",
    "print(tuple_everything[0])\n",
    "print(tuple_everything[:3])\n",
    "print(tuple_everything[2:-2])\n",
    "\n",
    "# Negative indices are counted from the back of the list.\n",
    "print(tuple_everything[-3:])"
   ]
  },
  {
   "cell_type": "markdown",
   "metadata": {},
   "source": [
    "Tuples are *immutable* (read-only). This means they cannot be changed:"
   ]
  },
  {
   "cell_type": "code",
   "execution_count": null,
   "metadata": {
    "ExecuteTime": {
     "end_time": "2018-07-25T09:31:39.663141Z",
     "start_time": "2018-07-25T09:31:39.504064Z"
    }
   },
   "outputs": [],
   "source": [
    "tuple_everything[0] = 'Hi'"
   ]
  },
  {
   "cell_type": "markdown",
   "metadata": {},
   "source": [
    "#### Lists"
   ]
  },
  {
   "cell_type": "code",
   "execution_count": null,
   "metadata": {
    "ExecuteTime": {
     "end_time": "2018-07-25T09:31:42.066190Z",
     "start_time": "2018-07-25T09:31:42.039910Z"
    }
   },
   "outputs": [],
   "source": [
    "# List use square brackets and are simple ordered collections of things.\n",
    "list_everything = ['hello', a, b, c, 1, 2, 3]\n",
    "print(type(list_everything))"
   ]
  },
  {
   "cell_type": "markdown",
   "metadata": {},
   "source": [
    "Tuples can turned into lists and visa versa:"
   ]
  },
  {
   "cell_type": "code",
   "execution_count": null,
   "metadata": {
    "ExecuteTime": {
     "end_time": "2018-07-25T09:31:44.120741Z",
     "start_time": "2018-07-25T09:31:44.094548Z"
    }
   },
   "outputs": [],
   "source": [
    "# they are not the same\n",
    "print(list_everything == tuple_everything)\n",
    "\n",
    "# but can be made the same\n",
    "print(list_everything == list(tuple_everything))\n",
    "print(tuple(list_everything) == tuple_everything)"
   ]
  },
  {
   "cell_type": "markdown",
   "metadata": {},
   "source": [
    "Lists are *mutable*:"
   ]
  },
  {
   "cell_type": "code",
   "execution_count": null,
   "metadata": {
    "ExecuteTime": {
     "end_time": "2018-07-25T09:31:50.659148Z",
     "start_time": "2018-07-25T09:31:50.631932Z"
    }
   },
   "outputs": [],
   "source": [
    "print(list_everything)\n",
    "\n",
    "# assigning at indices\n",
    "list_everything[0], list_everything[-1] = 'Olla', 3**3\n",
    "print(list_everything)\n",
    "\n",
    "# Appending with the append method\n",
    "list_everything.append(\"you\")\n",
    "print(list_everything)\n",
    "\n",
    "# or adding two lists together\n",
    "list_everything += [10, 20, 30, 'some text']\n",
    "print(list_everything)"
   ]
  },
  {
   "cell_type": "markdown",
   "metadata": {},
   "source": [
    "#### Exercise\n",
    "\n",
    "Swap the first and last items in the following list and print the result."
   ]
  },
  {
   "cell_type": "code",
   "execution_count": null,
   "metadata": {
    "ExecuteTime": {
     "end_time": "2018-07-25T09:32:54.372946Z",
     "start_time": "2018-07-25T09:32:54.345972Z"
    }
   },
   "outputs": [],
   "source": [
    "# the list\n",
    "stuff = ['this', 'comes', 'before', 'that']\n",
    "\n",
    "# enter code here (approx 2 lines)\n",
    "\n"
   ]
  },
  {
   "cell_type": "markdown",
   "metadata": {},
   "source": [
    "#### Dictionaries\n",
    "\n",
    "Each entry is a key-value pair. Dictionaries are unordered."
   ]
  },
  {
   "cell_type": "code",
   "execution_count": null,
   "metadata": {
    "ExecuteTime": {
     "end_time": "2018-07-25T09:33:01.051300Z",
     "start_time": "2018-07-25T09:33:01.022815Z"
    }
   },
   "outputs": [],
   "source": [
    "# Dictionaries have named fields and no inherent order. As is\n",
    "# the case with lists, they can contain anything.\n",
    "information = {\n",
    "    'name': 'John',\n",
    "    'surname': 'Doe',\n",
    "    'age': 30,\n",
    "    'kids': ['Jonny', 'Janie']\n",
    "}\n",
    "\n",
    "print(type(information))\n",
    "\n",
    "# Acccess items by using the key in square brackets.\n",
    "print(information['kids'])\n",
    "\n",
    "# Add new things by just assigning to a key.\n",
    "print(information)\n",
    "\n",
    "information['favorite music'] = 'jazz'\n",
    "print(information)\n",
    "\n",
    "# Delete things by using the del operator\n",
    "del information['age']\n",
    "print(information)"
   ]
  },
  {
   "cell_type": "markdown",
   "metadata": {},
   "source": [
    "### Imports\n",
    "\n",
    "To use non built-in functions and objects not part of the default namespace, you have to import them. You will have to do this a lot so it is necessary to learn how to do it."
   ]
  },
  {
   "cell_type": "code",
   "execution_count": null,
   "metadata": {
    "ExecuteTime": {
     "end_time": "2018-07-25T09:33:14.678644Z",
     "start_time": "2018-07-25T09:33:14.656601Z"
    }
   },
   "outputs": [],
   "source": [
    "# Import anything, and use it with the dot accessor.\n",
    "import math\n",
    "\n",
    "a = math.cos(4 * math.pi)\n",
    "\n",
    "# You can also selectively import things.\n",
    "from math import pi\n",
    "\n",
    "b = 3 * pi\n",
    "\n",
    "# And even rename them if you don't like their name.\n",
    "from math import cos as cosine\n",
    "c = cosine(b)"
   ]
  },
  {
   "cell_type": "markdown",
   "metadata": {},
   "source": [
    "How to know what is available?\n",
    "\n",
    "1. Read the [documentation](https://docs.python.org/3/library/math.html)\n",
    "2. Interactively query the module"
   ]
  },
  {
   "cell_type": "code",
   "execution_count": null,
   "metadata": {
    "ExecuteTime": {
     "end_time": "2018-07-25T09:33:16.807420Z",
     "start_time": "2018-07-25T09:33:16.785237Z"
    }
   },
   "outputs": [],
   "source": [
    "print(dir(math))"
   ]
  },
  {
   "cell_type": "markdown",
   "metadata": {},
   "source": [
    "Typing the **.** and the <kbd>TAB</kbd> will kick off tab-completion and allow you to interrogate the object."
   ]
  },
  {
   "cell_type": "code",
   "execution_count": null,
   "metadata": {
    "ExecuteTime": {
     "end_time": "2018-07-25T09:33:29.090385Z",
     "start_time": "2018-07-25T09:33:29.064200Z"
    }
   },
   "outputs": [],
   "source": [
    "math."
   ]
  },
  {
   "cell_type": "markdown",
   "metadata": {},
   "source": [
    "In the IPython framework you can also use a question mark to view the documentation of modules and functions."
   ]
  },
  {
   "cell_type": "code",
   "execution_count": null,
   "metadata": {
    "ExecuteTime": {
     "end_time": "2018-07-25T09:33:39.603446Z",
     "start_time": "2018-07-25T09:33:39.578103Z"
    }
   },
   "outputs": [],
   "source": [
    "math.cos?"
   ]
  },
  {
   "cell_type": "markdown",
   "metadata": {},
   "source": [
    "### Control Flow\n",
    "\n",
    "Loops and conditionals are needed for any non-trivial task. Please note that **whitespace matters in Python**. Everything that is indented at the same level is part of the same block. By far the most common loops in Python are for-each loops as shown in the following. While loops also exist but are rarely used."
   ]
  },
  {
   "cell_type": "code",
   "execution_count": null,
   "metadata": {
    "ExecuteTime": {
     "end_time": "2018-07-25T09:33:53.940823Z",
     "start_time": "2018-07-25T09:33:53.913359Z"
    }
   },
   "outputs": [],
   "source": [
    "for i in range(len(list_everything)):\n",
    "    print(list_everything[i])"
   ]
  },
  {
   "cell_type": "code",
   "execution_count": null,
   "metadata": {
    "ExecuteTime": {
     "end_time": "2018-07-25T09:34:22.165706Z",
     "start_time": "2018-07-25T09:34:22.137644Z"
    }
   },
   "outputs": [],
   "source": [
    "for item in list_everything:\n",
    "    print(item)"
   ]
  },
  {
   "cell_type": "code",
   "execution_count": null,
   "metadata": {
    "ExecuteTime": {
     "end_time": "2018-07-25T09:34:35.124788Z",
     "start_time": "2018-07-25T09:34:35.097147Z"
    }
   },
   "outputs": [],
   "source": [
    "temp = ['a', 'b', 'c']\n",
    "\n",
    "# The typical Python loop is a for-each loop, e.g.\n",
    "for item in temp:\n",
    "    # Everything with the same indentation is part of the loop.\n",
    "    new_item = item + ' ' + item\n",
    "    print(new_item)\n",
    "    \n",
    "print('No more part of the loop.')    "
   ]
  },
  {
   "cell_type": "markdown",
   "metadata": {},
   "source": [
    "The second crucial control flow structure are if/else conditional and they work the same as in any other language."
   ]
  },
  {
   "cell_type": "code",
   "execution_count": null,
   "metadata": {
    "ExecuteTime": {
     "end_time": "2018-07-25T09:34:43.818867Z",
     "start_time": "2018-07-25T09:34:43.792908Z"
    }
   },
   "outputs": [],
   "source": [
    "# If/else works as expected.\n",
    "age = 77\n",
    "\n",
    "if age >= 0 and age < 10:\n",
    "    print(\"Younger than ten.\")\n",
    "elif age >= 10:\n",
    "    print(\"Older than ten.\")\n",
    "else:\n",
    "    print(\"wait what?\")"
   ]
  },
  {
   "cell_type": "markdown",
   "metadata": {},
   "source": [
    "*List comprehensions* are a nice way to write compact loops.\n",
    "\n",
    "*Make sure you understand this as it is very common in Python.*"
   ]
  },
  {
   "cell_type": "code",
   "execution_count": null,
   "metadata": {
    "ExecuteTime": {
     "end_time": "2018-07-25T09:35:29.644668Z",
     "start_time": "2018-07-25T09:35:29.617757Z"
    }
   },
   "outputs": [],
   "source": [
    "a = range(10)\n",
    "print(list(a))\n",
    "b = [i for i in a if not i % 2]\n",
    "print(b)\n",
    "\n",
    "# Equivalant loop for b.\n",
    "b = []\n",
    "for i in a:\n",
    "    if not i % 2:\n",
    "        b.append(i)\n",
    "print(b)"
   ]
  },
  {
   "cell_type": "markdown",
   "metadata": {},
   "source": [
    "List comprehensions are **faster** too. Look:"
   ]
  },
  {
   "cell_type": "code",
   "execution_count": null,
   "metadata": {
    "ExecuteTime": {
     "end_time": "2018-07-25T09:35:42.126201Z",
     "start_time": "2018-07-25T09:35:37.865416Z"
    }
   },
   "outputs": [],
   "source": [
    "a = range(10000)\n",
    "%timeit b = [i for i in a if not i % 2]"
   ]
  },
  {
   "cell_type": "code",
   "execution_count": null,
   "metadata": {
    "ExecuteTime": {
     "end_time": "2018-07-25T09:35:51.924389Z",
     "start_time": "2018-07-25T09:35:45.538635Z"
    }
   },
   "outputs": [],
   "source": [
    "%%timeit\n",
    "b = []\n",
    "for i in a:\n",
    "    if not i % 2:\n",
    "        b.append(i)"
   ]
  },
  {
   "cell_type": "markdown",
   "metadata": {
    "collapsed": true
   },
   "source": [
    "### Functions\n",
    "\n",
    "The key to conquer a big problem is to divide it into many smaller ones and tackle them one by one. This is usually achieved by using functions."
   ]
  },
  {
   "cell_type": "code",
   "execution_count": null,
   "metadata": {
    "ExecuteTime": {
     "end_time": "2018-07-25T09:36:05.189327Z",
     "start_time": "2018-07-25T09:36:05.161403Z"
    }
   },
   "outputs": [],
   "source": [
    "# Functions are defined using the def keyword.\n",
    "def do_stuff(a, b):\n",
    "    return a * b\n",
    "\n",
    "# And called with the arguments in round brackets.\n",
    "print(do_stuff(2, 3))\n",
    "\n",
    "# Python function also can have optional arguments.\n",
    "def do_more_stuff(a, b, power=1):\n",
    "    return (a * b) ** power\n",
    "\n",
    "print(do_more_stuff(2, 3))\n",
    "print(do_more_stuff(2, 3, power=3))\n",
    "\n",
    "# For more complex function it is oftentimes a good idea to \n",
    "# explicitly name the arguments. This is easier to read and less error-prone.\n",
    "print(do_more_stuff(a=2, b=3, power=3))"
   ]
  },
  {
   "cell_type": "markdown",
   "metadata": {},
   "source": [
    "#### Document your functions!\n",
    "\n",
    "I cannot stress this enough. The whole idea of writing functions is to reuse them over and over again. If you need to read the code inside a function to know what it does, whoever wrote it did a bad job. Some functions are straightforward and need only one line of documentation, others need more comprehensive documentation."
   ]
  },
  {
   "cell_type": "code",
   "execution_count": null,
   "metadata": {
    "ExecuteTime": {
     "end_time": "2018-07-25T09:36:26.300132Z",
     "start_time": "2018-07-25T09:36:26.273257Z"
    }
   },
   "outputs": [],
   "source": [
    "# this is a straightforward function\n",
    "def fibonacci_expander(n):\n",
    "    \"\"\"\n",
    "    Return a list of the first ``n`` elements of the Fibonacci series.\n",
    "    \"\"\"\n",
    "    result = [0, 1]\n",
    "    if n < 3:\n",
    "        raise ValueError(\n",
    "            'The first two elements of the Fibonacci series are 0, 1. Try n > 2.')\n",
    "        \n",
    "    for n_ in range(2, n):\n",
    "        result.append(result[-1] + result[-2])\n",
    "    return result\n",
    "\n",
    "\n",
    "def fibonacci_expander2(n=None, vmax=None):\n",
    "    \"\"\"\n",
    "    A Fibonacci series expander.\n",
    "    \n",
    "    Parameters\n",
    "    ----------\n",
    "    n : {int, None}, optional\n",
    "        Return the first ``n`` elements of the Fibonacci series.\n",
    "        \n",
    "    vmax : {int, None}, optional\n",
    "        Return all elements of the Fibonacci series smaller than\n",
    "        or equal to ``vmax``.\n",
    "        \n",
    "    Note\n",
    "    ----\n",
    "    ``n`` is ignored if ``vmax`` is specified.\n",
    "        \n",
    "    Return\n",
    "    ------\n",
    "    result : list\n",
    "        First ``n`` elements or elements smaller than or equal to\n",
    "        ``vmax`` of the Fibonacci series.\n",
    "        \n",
    "    Examples\n",
    "    --------\n",
    "    >>> fibonacci_expander2(10)\n",
    "    [0, 1, 1, 2, 3, 5, 8, 13, 21, 34]\n",
    "    \n",
    "    >>> fibonacci_expander2(vmax=10)\n",
    "    [0, 1, 1, 2, 3, 5, 8]\n",
    "    \"\"\"\n",
    "    result = [0, 1]\n",
    "    if vmax:\n",
    "        while result[-1] <= vmax:\n",
    "            result.append(result[-1] + result[-2])\n",
    "        return result[:-1]\n",
    "        \n",
    "    else:\n",
    "        return fibonacci_expander(n)"
   ]
  },
  {
   "cell_type": "markdown",
   "metadata": {},
   "source": [
    "### Error Messages\n",
    "\n",
    "You will eventually run into some error messages. Learn to read them! The last line is often the one that matters - reading upwards traces the error back in time and shows what calls led to it. If stuck: just google the error message!"
   ]
  },
  {
   "cell_type": "code",
   "execution_count": null,
   "metadata": {
    "ExecuteTime": {
     "end_time": "2018-07-25T09:37:00.154894Z",
     "start_time": "2018-07-25T09:37:00.121850Z"
    }
   },
   "outputs": [],
   "source": [
    "def do_something(a, b): \n",
    "    print(a + b + something_else)\n",
    "    \n",
    "do_something(1, 2)    "
   ]
  },
  {
   "cell_type": "markdown",
   "metadata": {},
   "source": [
    "## Classes\n",
    "\n",
    "We have already seen classes, *remember*? `int` is a class, `tuple` is a class. Classes are objects (*structures*) that contain values (*attributes*) and attached functions (*methods*). They are the cornerstone of OOP. We use classes in our everyday life without even thinking about it:\n",
    "\n",
    "> Here is a piece of grey furniture. It is called a table. It has 4 legs. it is made out of wood and metal. it can be used for working on, hiding under, and drumming a beat.\n",
    "\n",
    "What would this object look like as a class?"
   ]
  },
  {
   "cell_type": "code",
   "execution_count": null,
   "metadata": {
    "ExecuteTime": {
     "end_time": "2018-07-25T09:37:54.333670Z",
     "start_time": "2018-07-25T09:37:54.306086Z"
    }
   },
   "outputs": [],
   "source": [
    "class Furniture:\n",
    "    \"\"\"\n",
    "    A top class binding all furnitures.\n",
    "    \"\"\"\n",
    "    def __init__(self, color, made_of):\n",
    "        self.color = color\n",
    "        self.made_of = made_of\n",
    "        \n",
    "    def info(self):\n",
    "        print('This is a piece of {} furniture made of {}.'.format(\n",
    "            self.color, self.made_of))\n",
    "        \n",
    "    def drum_the_beat(self):\n",
    "        print('1-and-2-and-3-and-4-and-1-and-2-and-3-and-4-and...')\n",
    "\n",
    "        \n",
    "class Table(Furniture):\n",
    "    \"\"\"\n",
    "    This is a table.\n",
    "    \"\"\"\n",
    "    def __init__(self, color, made_of, number_of_legs):\n",
    "        Furniture.__init__(self, color, made_of)\n",
    "        self.number_of_legs = number_of_legs\n",
    "        \n",
    "    def hide_under(self):\n",
    "        print('Good, you are safe now.')\n",
    "        \n",
    "    def work(self):\n",
    "        print(\"Take a coffee break. You've been working too hard.\")\n",
    "        \n",
    "    def info(self):\n",
    "        print('This is a {} legged {} table made of {}.'.format(\n",
    "                self.number_of_legs, self.color, self.made_of))"
   ]
  },
  {
   "cell_type": "code",
   "execution_count": null,
   "metadata": {
    "ExecuteTime": {
     "end_time": "2018-07-25T09:37:59.116666Z",
     "start_time": "2018-07-25T09:37:59.091294Z"
    }
   },
   "outputs": [],
   "source": [
    "desk = Table('gray', 'wood and metal', 4)\n",
    "desk.info()\n"
   ]
  },
  {
   "cell_type": "markdown",
   "metadata": {},
   "source": [
    "Note that classes are very flexible objects. We can assign new attributes to an existing class:"
   ]
  },
  {
   "cell_type": "code",
   "execution_count": null,
   "metadata": {
    "ExecuteTime": {
     "end_time": "2018-07-25T09:38:03.555137Z",
     "start_time": "2018-07-25T09:38:03.528482Z"
    }
   },
   "outputs": [],
   "source": [
    "desk.price = dict(sum=100, currency='Euros')\n",
    "\n",
    "desk.price"
   ]
  },
  {
   "cell_type": "markdown",
   "metadata": {},
   "source": [
    "## The Scientific Python Ecosystem\n",
    "\n",
    "The [SciPy Stack](https://www.scipy.org/stackspec.html) forms the basis for essentially all applications of scientific Python. Here we will quickly introduce the three core libraries:\n",
    "\n",
    "* `NumPy`\n",
    "* `SciPy`\n",
    "* `Matplotlib`\n",
    "\n",
    "The SciPy stack furthermore contains `pandas` (library for data analysis on tabular and time series data) and `sympy` (package for symbolic math), both very powerful packages, but we will omit them in this tutorial."
   ]
  },
  {
   "cell_type": "markdown",
   "metadata": {},
   "source": [
    "### NumPy\n",
    "\n",
    "Large parts of the scientific Python ecosystem use NumPy, an array computation package offering N-dimensional, typed arrays and useful functions for linear algebra, Fourier transforms, random numbers, and other basic scientific tasks."
   ]
  },
  {
   "cell_type": "code",
   "execution_count": null,
   "metadata": {
    "ExecuteTime": {
     "end_time": "2018-07-25T09:38:15.864953Z",
     "start_time": "2018-07-25T09:38:15.825203Z"
    }
   },
   "outputs": [],
   "source": [
    "import numpy as np\n",
    "\n",
    "# Create a large array with with 1 million samples.\n",
    "x = np.linspace(start=0, stop=100, num=1E6, dtype=np.float64)\n",
    "\n",
    "# Most operations work per-element.\n",
    "y = x ** 2\n",
    "\n",
    "# Uses C and Fortran under the hood for speed.\n",
    "print(y.sum())\n",
    "\n",
    "# FFT and inverse\n",
    "x = np.random.random(100)\n",
    "large_X = np.fft.fft(x)\n",
    "x = np.fft.ifft(large_X)"
   ]
  },
  {
   "cell_type": "markdown",
   "metadata": {},
   "source": [
    "#### Something to note\n",
    "\n",
    "When slicing and indexing, NumPy uses memory-views (pointers). This is very efficient memory-wise but can play tricks on you."
   ]
  },
  {
   "cell_type": "code",
   "execution_count": null,
   "metadata": {
    "ExecuteTime": {
     "end_time": "2018-07-25T09:38:20.316511Z",
     "start_time": "2018-07-25T09:38:20.289966Z"
    }
   },
   "outputs": [],
   "source": [
    "# init array ``a`` with some values\n",
    "a = np.arange(-100, 100, 10)\n",
    "print(a)\n",
    "\n",
    "# assign a subset of ``a`` to ``b``\n",
    "b = a[7: 14]\n",
    "print(b)\n",
    "\n",
    "# change a value in ``b``\n",
    "b[3] = 999\n",
    "print(b)"
   ]
  },
  {
   "cell_type": "markdown",
   "metadata": {},
   "source": [
    "That is expected, right? What are the array values stored in `a`?"
   ]
  },
  {
   "cell_type": "code",
   "execution_count": null,
   "metadata": {
    "ExecuteTime": {
     "end_time": "2018-07-25T09:38:25.364067Z",
     "start_time": "2018-07-25T09:38:25.338170Z"
    }
   },
   "outputs": [],
   "source": [
    "print(a)"
   ]
  },
  {
   "cell_type": "markdown",
   "metadata": {},
   "source": [
    "So the values of `a` were not actually assigned to `b`, only a pointer to their location in memory. This means that when we change an element in `b`, we are actually touching memory-space that belongs to `a`.\n",
    "\n",
    "This of course means, that changing an element in `a` will definitely cause a change in `b`."
   ]
  },
  {
   "cell_type": "code",
   "execution_count": null,
   "metadata": {
    "ExecuteTime": {
     "end_time": "2018-07-25T09:38:29.467708Z",
     "start_time": "2018-07-25T09:38:29.441780Z"
    }
   },
   "outputs": [],
   "source": [
    "a[9] = 12345\n",
    "print(a)\n",
    "print(b)"
   ]
  },
  {
   "cell_type": "markdown",
   "metadata": {},
   "source": [
    "In some cases this behavior is undesirable. Use the `copy()` method to explicitly copy the values themselves rather than *pointing* to them."
   ]
  },
  {
   "cell_type": "code",
   "execution_count": null,
   "metadata": {
    "ExecuteTime": {
     "end_time": "2018-07-25T09:38:43.228701Z",
     "start_time": "2018-07-25T09:38:43.201814Z"
    }
   },
   "outputs": [],
   "source": [
    "a = np.arange(-100, 100, 10)\n",
    "print(a)\n",
    "\n",
    "# assign a subset of ``a`` to ``b``\n",
    "b = a[7: 14].copy()\n",
    "print(b)\n",
    "\n",
    "# change a value in ``b``\n",
    "b[3] = 999\n",
    "print(b)"
   ]
  },
  {
   "cell_type": "markdown",
   "metadata": {},
   "source": [
    "### Matplotlib\n",
    "\n",
    "Plotting is done using `Matplotlib`, a package for greating high-quality static plots. It has an interface that mimics Matlab which many people are familiar with."
   ]
  },
  {
   "cell_type": "code",
   "execution_count": null,
   "metadata": {
    "ExecuteTime": {
     "end_time": "2018-07-25T09:38:47.250700Z",
     "start_time": "2018-07-25T09:38:47.184864Z"
    }
   },
   "outputs": [],
   "source": [
    "import matplotlib.pyplot as plt\n",
    "\n",
    "cycles = 4\n",
    "x, dx = np.linspace(0, cycles * 2 * np.pi, 1024, retstep=True)\n",
    "y = np.sin(x)\n",
    "\n",
    "fig, (ax1, ax2) = plt.subplots(ncols=2)\n",
    "ax1.plot(x, y, color=\"green\", label=\"Some Curve\")\n",
    "ax1.legend(loc=1)\n",
    "\n",
    "freq = np.fft.rfftfreq(x.size, dx)\n",
    "amp = np.abs(np.fft.rfft(y)) / (0.5 * x.size)\n",
    "ax2.semilogx(freq, amp, 'g')\n"
   ]
  },
  {
   "cell_type": "code",
   "execution_count": null,
   "metadata": {
    "ExecuteTime": {
     "end_time": "2018-07-25T09:38:56.913239Z",
     "start_time": "2018-07-25T09:38:56.740061Z"
    }
   },
   "outputs": [],
   "source": [
    "from mpl_toolkits.mplot3d import axes3d\n",
    "\n",
    "fig, ax = plt.subplots(subplot_kw=dict(projection='3d'), figsize=(7, 7))\n",
    "X, Y, Z = axes3d.get_test_data(0.05)\n",
    "ax.plot_surface(X, Y, Z, cmap='coolwarm', rstride=8, cstride=8, alpha=0.5)\n",
    "ax.plot_wireframe(X, Y, Z, color='k', rstride=8, cstride=8, alpha=0.1)\n",
    "cset = ax.contourf(X, Y, Z, zdir='z', offset=-100, cmap='coolwarm')\n",
    "cset = ax.contourf(X, Y, Z, zdir='x', offset=-40, cmap='coolwarm')\n",
    "cset = ax.contourf(X, Y, Z, zdir='y', offset=40, cmap='coolwarm')\n",
    "\n",
    "ax.set_xlabel('X')\n",
    "ax.set_xlim(-40, 40)\n",
    "ax.set_ylabel('Y')\n",
    "ax.set_ylim(-40, 40)\n",
    "ax.set_zlabel('Z')\n",
    "ax.set_zlim(-100, 100)\n",
    "ax.set_aspect(1)"
   ]
  },
  {
   "cell_type": "markdown",
   "metadata": {},
   "source": [
    "### SciPy\n",
    "\n",
    "`SciPy`, in contrast to `NumPy` which only offers basic numerical routines, contains a lot of additional functionality needed for scientific work. Examples are solvers for basic differential equations, numeric integration and optimization, spare matrices, interpolation routines, signal processing methods, and a lot of other things."
   ]
  },
  {
   "cell_type": "code",
   "execution_count": null,
   "metadata": {
    "ExecuteTime": {
     "end_time": "2018-07-25T09:39:02.885454Z",
     "start_time": "2018-07-25T09:39:02.298456Z"
    }
   },
   "outputs": [],
   "source": [
    "from scipy.interpolate import interp1d\n",
    "\n",
    "# Under-sampled\n",
    "x = np.linspace(0, 10, num=11)\n",
    "y = np.cos(x ** 2 / 9.0)\n",
    "\n",
    "# Over-sampled\n",
    "x1 = np.linspace(0, 10, num=101)\n",
    "y1 = np.cos(x1 ** 2 / 9.0)\n",
    "\n",
    "# Cubic spline interpolation to new points.\n",
    "y2 = interp1d(x, y, kind='cubic')(x1)\n",
    "\n",
    "%matplotlib inline\n",
    "plt.plot(x, y, 'o:', label='under-sampled')\n",
    "plt.plot(x1, y1, '--', label='over-sampled')\n",
    "plt.plot(x1, y2, label='interpolated')\n",
    "plt.legend()"
   ]
  },
  {
   "cell_type": "markdown",
   "metadata": {},
   "source": [
    "## Exercises\n",
    "\n",
    "### Functions, NumPy, and Matplotlib\n",
    "\n",
    "A. Write a function that takes a NumPy array `x` and `a`, `b`, and `c` and returns\n",
    "\n",
    "$$\n",
    "f(x) = a x^2 + b x + c\n",
    "$$\n",
    "\n",
    "B. Plot the result of that function with matplotlib."
   ]
  },
  {
   "cell_type": "code",
   "execution_count": null,
   "metadata": {
    "ExecuteTime": {
     "end_time": "2018-07-25T09:40:08.312842Z",
     "start_time": "2018-07-25T09:40:07.764829Z"
    }
   },
   "outputs": [],
   "source": [
    "import matplotlib.pyplot as plt\n",
    "import numpy as np\n",
    "\n",
    "# your code here: (approx 3 lines)\n",
    "\n",
    "\n"
   ]
  },
  {
   "cell_type": "markdown",
   "metadata": {},
   "source": [
    "#### Bottles of Beer\n",
    "\n",
    "*(stolen from http://www.ling.gu.se/~lager/python_exercises.html)*\n",
    "\n",
    "\n",
    "\"99 Bottles of Beer\" is a traditional song in the United States and Canada. It is popular to sing on long trips, as it has a very repetitive format which is easy to memorize, and can take a long time to sing. The song's simple lyrics are as follows:\n",
    "\n",
    "```\n",
    "99 bottles of beer on the wall, 99 bottles of beer.\n",
    "Take one down, pass it around, 98 bottles of beer on the wall.\n",
    "```\n",
    "\n",
    "The same verse is repeated, each time with one fewer bottle. The song is completed when the singer or singers reach zero.\n",
    "\n",
    "Your task here is write a Python program capable of generating all the verses of the song.\n"
   ]
  },
  {
   "cell_type": "code",
   "execution_count": null,
   "metadata": {
    "ExecuteTime": {
     "end_time": "2018-07-25T09:41:02.103306Z",
     "start_time": "2018-07-25T09:41:02.068508Z"
    }
   },
   "outputs": [],
   "source": [
    "# your code here: (approx 3 lines)\n",
    "\n",
    "\n"
   ]
  },
  {
   "cell_type": "markdown",
   "metadata": {},
   "source": [
    "#### Ceasar Cipher\n",
    "\n",
    "*(stolen from http://www.ling.gu.se/~lager/python_exercises.html)*\n",
    "\n",
    "In cryptography, a Caesar cipher is a very simple encryption techniques in which each letter in the plain text is replaced by a letter some fixed number of positions down the alphabet. For example, with a shift of 3, A would be replaced by D, B would become E, and so on. The method is named after Julius Caesar, who used it to communicate with his generals. ROT-13 (\"rotate by 13 places\") is a widely used example of a Caesar cipher where the shift is 13. In Python, the key for ROT-13 may be represented by means of the following dictionary:\n",
    "\n",
    "```python\n",
    "key = {'a':'n', 'b':'o', 'c':'p', 'd':'q', 'e':'r', 'f':'s', 'g':'t', 'h':'u', \n",
    "       'i':'v', 'j':'w', 'k':'x', 'l':'y', 'm':'z', 'n':'a', 'o':'b', 'p':'c', \n",
    "       'q':'d', 'r':'e', 's':'f', 't':'g', 'u':'h', 'v':'i', 'w':'j', 'x':'k',\n",
    "       'y':'l', 'z':'m', 'A':'N', 'B':'O', 'C':'P', 'D':'Q', 'E':'R', 'F':'S', \n",
    "       'G':'T', 'H':'U', 'I':'V', 'J':'W', 'K':'X', 'L':'Y', 'M':'Z', 'N':'A', \n",
    "       'O':'B', 'P':'C', 'Q':'D', 'R':'E', 'S':'F', 'T':'G', 'U':'H', 'V':'I', \n",
    "       'W':'J', 'X':'K', 'Y':'L', 'Z':'M'}\n",
    "```\n",
    "\n",
    "Your task in this exercise is to implement an decoder of ROT-13. Once you're done, you will be able to read the following secret message:\n",
    "\n",
    "```\n",
    "Pnrfne pvcure? V zhpu cersre Pnrfne fnynq!\n",
    "```\n",
    "\n",
    "**BONUS:** Write an encoder!"
   ]
  },
  {
   "cell_type": "code",
   "execution_count": null,
   "metadata": {
    "ExecuteTime": {
     "end_time": "2018-07-25T09:42:54.589133Z",
     "start_time": "2018-07-25T09:42:54.557860Z"
    }
   },
   "outputs": [],
   "source": [
    "sentence = \"Prnfne pvcure? V zhpu cersre Prnfne fnynq!\"\n",
    "\n",
    "key = {'a':'n', 'b':'o', 'c':'p', 'd':'q', 'e':'r', 'f':'s', 'g':'t', 'h':'u', \n",
    "       'i':'v', 'j':'w', 'k':'x', 'l':'y', 'm':'z', 'n':'a', 'o':'b', 'p':'c', \n",
    "       'q':'d', 'r':'e', 's':'f', 't':'g', 'u':'h', 'v':'i', 'w':'j', 'x':'k',\n",
    "       'y':'l', 'z':'m', 'A':'N', 'B':'O', 'C':'P', 'D':'Q', 'E':'R', 'F':'S', \n",
    "       'G':'T', 'H':'U', 'I':'V', 'J':'W', 'K':'X', 'L':'Y', 'M':'Z', 'N':'A', \n",
    "       'O':'B', 'P':'C', 'Q':'D', 'R':'E', 'S':'F', 'T':'G', 'U':'H', 'V':'I', \n",
    "       'W':'J', 'X':'K', 'Y':'L', 'Z':'M'}\n",
    "\n",
    "result = \"\"\n",
    "# your code here: (approx 6 lines)\n",
    "\n",
    "\n",
    "\n",
    "\n",
    "\n",
    "\n",
    "\n",
    "#end your code\n",
    "print(result)"
   ]
  }
 ],
 "metadata": {
  "kernelspec": {
   "display_name": "Python 3",
   "language": "python",
   "name": "python3"
  },
  "language_info": {
   "codemirror_mode": {
    "name": "ipython",
    "version": 3
   },
   "file_extension": ".py",
   "mimetype": "text/x-python",
   "name": "python",
   "nbconvert_exporter": "python",
   "pygments_lexer": "ipython3",
   "version": "3.6.4"
  },
  "toc": {
   "nav_menu": {},
   "number_sections": true,
   "sideBar": true,
   "skip_h1_title": false,
   "toc_cell": false,
   "toc_position": {},
   "toc_section_display": "block",
   "toc_window_display": false
  },
  "varInspector": {
   "cols": {
    "lenName": 16,
    "lenType": 16,
    "lenVar": 40
   },
   "kernels_config": {
    "python": {
     "delete_cmd_postfix": "",
     "delete_cmd_prefix": "del ",
     "library": "var_list.py",
     "varRefreshCmd": "print(var_dic_list())"
    },
    "r": {
     "delete_cmd_postfix": ") ",
     "delete_cmd_prefix": "rm(",
     "library": "var_list.r",
     "varRefreshCmd": "cat(var_dic_list()) "
    }
   },
   "types_to_exclude": [
    "module",
    "function",
    "builtin_function_or_method",
    "instance",
    "_Feature"
   ],
   "window_display": false
  }
 },
 "nbformat": 4,
 "nbformat_minor": 1
}

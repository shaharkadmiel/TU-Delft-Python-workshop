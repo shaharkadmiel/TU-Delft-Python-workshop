{
 "cells": [
  {
   "cell_type": "markdown",
   "metadata": {
    "ExecuteTime": {
     "end_time": "2018-07-21T15:03:30.981967Z",
     "start_time": "2018-07-21T15:03:30.956915Z"
    }
   },
   "source": [
    "<div\n",
    "    style='background-image: url(\"images/_banner_.jpg\"); padding: 0px;\n",
    "    background-size: cover; border-radius: 10px; height: 250px;\n",
    "    background-position: 50% 50%'>\n",
    "    <div\n",
    "        style=\"float: left; margin: 20px; padding: 10px;\n",
    "        background: rgba(255 , 255 , 255 , 0.8); width: 40%; height: 100px;\n",
    "        border-radius: 10px\">\n",
    "        <div\n",
    "            style=\"position: relative; top: 50%;\n",
    "            transform: translatey(-50%)\">\n",
    "            <div\n",
    "                style=\"font-size: xx-large; font-weight: 900;\n",
    "                color: rgba(0 , 0 , 0 , 0.9);\n",
    "                line-height: 100%\">Python Workshop\n",
    "            </div>\n",
    "            <div\n",
    "                style=\"font-size: large; padding-top: 20px;\n",
    "                color: rgba(0 , 0 , 0 , 0.7)\">Files Input Output (IO)\n",
    "            </div>\n",
    "        </div>\n",
    "    </div>\n",
    "    <div style=\"float: right; font-size: small;\n",
    "        position: relative; top: 90%; padding: 5px;\n",
    "        background: rgba(255 , 255 , 255 , 0.6); border-top-left-radius: 10px;\n",
    "        color: rgba(0 , 0 , 0 , 1)\">Shahar Shani-Kadmiel, CiTG, TU Delft\n",
    "    </div>\n",
    "</div>"
   ]
  },
  {
   "cell_type": "markdown",
   "metadata": {},
   "source": [
    "## Reading and Writing Files\n",
    "\n",
    "From the python documentation:\n",
    "\n",
    "[open()](https://docs.python.org/3.6/library/functions.html#open) returns a [file object](https://docs.python.org/3.6/glossary.html#term-file-object), and is most commonly used with two arguments: `open(filename, mode)`.\n",
    "\n",
    "* `filename` is a string containing the filename relative or absolute path.\n",
    "* `mode` is another string containing a few characters describing the way in which the file will be used. \n",
    "\n",
    "accepted modes are:\n",
    "\n",
    "| mode | description |\n",
    "|------|-------------|\n",
    "| 'r'  | read-only (default mode if not specified) |\n",
    "| 'w'  | write-only (an existing file with the same name will be erased) |\n",
    "| 'a'  | append (cursor is placed at the end of the file) |\n",
    "\n",
    "A `'+'` added to any of the above will add the opposite functionality:\n",
    "\n",
    "| mode | description |\n",
    "|------|-------------|\n",
    "| 'r+'  | read & write |\n",
    "| 'w+'  | write & read (an existing file with the same name will be erased) |\n",
    "| 'a+'  | append & read (cursor is placed at the end of the file) |\n",
    "\n",
    "Add a `'b'` to open file in binary mode."
   ]
  },
  {
   "cell_type": "markdown",
   "metadata": {},
   "source": [
    "### Reading\n",
    "\n",
    "Let's have a look at a sample file:"
   ]
  },
  {
   "cell_type": "code",
   "execution_count": null,
   "metadata": {
    "ExecuteTime": {
     "end_time": "2018-07-25T09:07:47.292094Z",
     "start_time": "2018-07-25T09:07:47.263357Z"
    }
   },
   "outputs": [],
   "source": [
    "# open the file in read-only mode\n",
    "f = open('data/berkeley.sw4', 'r')\n",
    "\n",
    "# report where the cursor is\n",
    "print(f.tell())\n",
    "\n",
    "# read a line from the file, assign content to var. ``line`` and print\n",
    "line = f.readline()\n",
    "print(line)\n",
    "\n",
    "# report where the cursor is\n",
    "print(f.tell())\n",
    "\n",
    "# why is it there?\n",
    "print(len(line))"
   ]
  },
  {
   "cell_type": "markdown",
   "metadata": {},
   "source": [
    "Execute the next cell over and over a few times. See what happens..."
   ]
  },
  {
   "cell_type": "code",
   "execution_count": null,
   "metadata": {
    "ExecuteTime": {
     "end_time": "2018-07-25T09:07:56.387521Z",
     "start_time": "2018-07-25T09:07:56.366666Z"
    }
   },
   "outputs": [],
   "source": [
    "print(f.readline())\n",
    "print(f.tell())"
   ]
  },
  {
   "cell_type": "markdown",
   "metadata": {},
   "source": [
    "This can be implemented in a loop:"
   ]
  },
  {
   "cell_type": "code",
   "execution_count": null,
   "metadata": {
    "ExecuteTime": {
     "end_time": "2018-07-25T09:08:06.628300Z",
     "start_time": "2018-07-25T09:08:06.590460Z"
    }
   },
   "outputs": [],
   "source": [
    "for line in f:\n",
    "    print(line)"
   ]
  },
  {
   "cell_type": "markdown",
   "metadata": {},
   "source": [
    "### Writing\n",
    "\n",
    "The contents of the variable ``line`` should be:\n",
    "\n",
    "```sh\n",
    "'rec x=12000 y=11000 depth=0 file=surface_x=12000_y=11000_z=0_ writeEvery=100 nsew=0 variables=velocity\\n'\n",
    "```\n",
    "\n",
    "Let's open a new file and write this line:"
   ]
  },
  {
   "cell_type": "code",
   "execution_count": null,
   "metadata": {
    "ExecuteTime": {
     "end_time": "2018-07-25T09:08:12.925053Z",
     "start_time": "2018-07-25T09:08:12.894661Z"
    }
   },
   "outputs": [],
   "source": [
    "# open a file in write-only mode\n",
    "out_f = open('temp.txt', 'w')\n",
    "\n",
    "# Where is the cursor?\n",
    "print(out_f.tell())\n",
    "\n",
    "print(out_f.write(line))\n",
    "print(out_f.tell())"
   ]
  },
  {
   "cell_type": "markdown",
   "metadata": {},
   "source": [
    "Notice that a new file was created. Open it in a text editor, does it contain the line we just wrote to it?\n",
    "\n",
    "Note that when writing to a file, everything is actually written to a buffer and is offloaded to the actual file when it is closed. To force everything currently in the buffer to be written (*saved*) to the file try the `flush` method."
   ]
  },
  {
   "cell_type": "code",
   "execution_count": null,
   "metadata": {
    "ExecuteTime": {
     "end_time": "2018-07-25T09:08:20.429905Z",
     "start_time": "2018-07-25T09:08:20.406036Z"
    }
   },
   "outputs": [],
   "source": [
    "# Write another two lines to the file and view it in your text editor\n",
    "out_f.write('This is another line')\n",
    "out_f.write('Is this another line??')\n",
    "\n",
    "# uncomment the following line to force save to file\n",
    "# out_f.flush()"
   ]
  },
  {
   "cell_type": "markdown",
   "metadata": {},
   "source": [
    "So did we get what we expected? Try adding `'\\n'`, the line end character to the end of the above strings and execute the cell again."
   ]
  },
  {
   "cell_type": "markdown",
   "metadata": {},
   "source": [
    "### The `with` block\n",
    "\n",
    "Files remain open until you explicitly close them. This can lead to unwanted effects. It is therefor recommended to handle files within a `with` block:"
   ]
  },
  {
   "cell_type": "code",
   "execution_count": null,
   "metadata": {
    "ExecuteTime": {
     "end_time": "2018-07-25T09:08:51.797322Z",
     "start_time": "2018-07-25T09:08:51.775884Z"
    }
   },
   "outputs": [],
   "source": [
    "with open('data/berkeley.sw4') as in_f, open('temp.txt', 'a') as out_f:\n",
    "    for line in in_f:\n",
    "        out_f.write(line)\n",
    "\n",
    "print(in_f.closed)\n",
    "print(out_f.closed)"
   ]
  },
  {
   "cell_type": "markdown",
   "metadata": {},
   "source": [
    "## Parsing file contents\n",
    "\n",
    "Reading the contents of a file is pretty useless unless we are able to extract some information from within the contents. This is where [string operations](https://docs.python.org/3.6/library/string.html) and [string methods](https://docs.python.org/3.6/library/stdtypes.html#string-methods) come in handy.\n",
    "\n",
    "Our `line` variable should still be:\n",
    "\n",
    "```sh\n",
    "'rec x=12000 y=11000 depth=0 file=surface_x=12000_y=11000_z=0_ writeEvery=100 nsew=0 variables=velocity\\n'\n",
    "```\n",
    "\n",
    "How would we parse the above string into a useful data structure?\n",
    "\n",
    "Have a look for example at [`str.split`](https://docs.python.org/3.6/library/stdtypes.html#str.split), [`str.strip`](https://docs.python.org/3.6/library/stdtypes.html#str.strip), and other string methods."
   ]
  },
  {
   "cell_type": "code",
   "execution_count": null,
   "metadata": {
    "ExecuteTime": {
     "end_time": "2018-07-25T09:08:56.988390Z",
     "start_time": "2018-07-25T09:08:56.960872Z"
    }
   },
   "outputs": [],
   "source": [
    "print(line.split())"
   ]
  },
  {
   "cell_type": "markdown",
   "metadata": {},
   "source": [
    "### Exercise\n",
    "\n",
    "Write a `line_parser` function that takes a `line` and returns its content in a usable data structure. A [dictionary](https://docs.python.org/3.6/library/stdtypes.html#dictionary-view-objects) is a good place to start."
   ]
  },
  {
   "cell_type": "code",
   "execution_count": null,
   "metadata": {
    "ExecuteTime": {
     "end_time": "2018-07-25T09:09:07.555813Z",
     "start_time": "2018-07-25T09:09:07.529090Z"
    }
   },
   "outputs": [],
   "source": [
    "line = 'rec x=12000 y=11000 depth=0 file=surface_x=12000_y=11000_z=0_ writeEvery=100 nsew=0 variables=velocity\\n'\n",
    "\n",
    "def line_parser(line):\n",
    "    line = line.split()\n",
    "    name = line.pop(0)\n",
    "    contents = {}\n",
    "    \n",
    "    # your code here: (approx 6 lines)\n",
    "    for ...\n",
    "    \n",
    "    \n",
    "    \n",
    "    \n",
    "    \n",
    "    \n",
    "    # end your code\n",
    "    return name, contents\n",
    "\n",
    "line_parser(line)"
   ]
  },
  {
   "cell_type": "markdown",
   "metadata": {},
   "source": [
    "Now write a `file_parser` function that takes a `filename` and parses it into a dictionary object. The `line_parser` we wrote will not handle lines with *comments*, make sure to filter those out before *shipping* them off to the `line_parser`."
   ]
  },
  {
   "cell_type": "code",
   "execution_count": null,
   "metadata": {
    "ExecuteTime": {
     "end_time": "2018-07-25T09:09:19.450672Z",
     "start_time": "2018-07-25T09:09:19.417004Z"
    }
   },
   "outputs": [],
   "source": [
    "def file_parser(filename, comment='#'):\n",
    "    file_contents = {}\n",
    "    with open(filename) as f:\n",
    "        \n",
    "        # your code here: (approx 8 lines)\n",
    "        for ...\n",
    "        \n",
    "        \n",
    "        \n",
    "        \n",
    "        \n",
    "        \n",
    "        \n",
    "        # end your code\n",
    "    return file_contents\n",
    "\n",
    "file_parser('data/berkeley.sw4')"
   ]
  },
  {
   "cell_type": "code",
   "execution_count": null,
   "metadata": {
    "ExecuteTime": {
     "end_time": "2018-07-25T09:09:25.688206Z",
     "start_time": "2018-07-25T09:09:25.650112Z"
    }
   },
   "outputs": [],
   "source": [
    "input_file = file_parser('data/berkeley.sw4')\n",
    "input_file"
   ]
  },
  {
   "cell_type": "markdown",
   "metadata": {},
   "source": [
    "### Reading column data\n",
    "\n",
    "Most times, you will want to read columns of data from a tabulated file. NumPy has built-in functions for that. The most basic of which is [numpy.loadtxt](https://docs.scipy.org/doc/numpy/reference/generated/numpy.loadtxt.html)"
   ]
  },
  {
   "cell_type": "code",
   "execution_count": null,
   "metadata": {
    "ExecuteTime": {
     "end_time": "2018-07-25T09:09:51.518973Z",
     "start_time": "2018-07-25T09:09:51.154198Z"
    }
   },
   "outputs": [],
   "source": [
    "%matplotlib notebook\n",
    "import matplotlib.pyplot as plt\n",
    "import numpy as np\n",
    "(time, F_x, F_y, F_z,\n",
    " D_x1, D_x2, D_y1, D_y2, D_z1, D_z2,\n",
    " Chan7, Chan8) = np.loadtxt('data/SURE_GI_JettedBlock_20171027_135204.txt',\n",
    "                            skiprows=28).T\n",
    "\n",
    "D_x = 0.5 * (D_x1 + D_x2)\n",
    "D_y = 0.5 * (D_y1 + D_y2)\n",
    "D_z = 0.5 * (D_z1 + D_z2)"
   ]
  },
  {
   "cell_type": "code",
   "execution_count": null,
   "metadata": {
    "ExecuteTime": {
     "end_time": "2018-07-25T09:09:54.808508Z",
     "start_time": "2018-07-25T09:09:54.529229Z"
    },
    "scrolled": false
   },
   "outputs": [],
   "source": [
    "fig, ((ax1, ax11),\n",
    "      (ax2, ax22),\n",
    "      (ax3, ax33)) = plt.subplots(3, 2, sharex='col', sharey=True,\n",
    "                                    figsize=(7, 7))\n",
    "\n",
    "fig.subplots_adjust(wspace=0, hspace=0)\n",
    "\n",
    "ax1.plot(time, F_x, 'k')\n",
    "ax1.set_ylabel('X')\n",
    "\n",
    "ax2.plot(time, F_y, 'k')\n",
    "ax2.set_ylabel('Y')\n",
    "\n",
    "ax3.plot(time, F_z, 'k')\n",
    "\n",
    "ax3.set_ylabel('Force Z, kN')\n",
    "ax3.set_xlabel('Time, s')\n",
    "\n",
    "sc = ax11.scatter(D_x, F_x, 3, c=time, vmin=2500, vmax=5500, cmap='jet')\n",
    "sc = ax22.scatter(D_y, F_y, 3, c=time, vmin=2500, vmax=5500, cmap='jet')\n",
    "sc = ax33.scatter(D_z, F_z, 3, c=time, vmin=2500, vmax=5500, cmap='jet')\n",
    "\n",
    "ax33.set_xlabel(\"Displacement Z, m\")\n",
    "plt.colorbar(sc, ax=(ax11, ax22, ax33), aspect=40, extend='both', label='Time, s')\n",
    "\n",
    "ax1.set_title('Force as a function of time')\n",
    "ax11.set_title('Disp. as a function of force')"
   ]
  }
 ],
 "metadata": {
  "kernelspec": {
   "display_name": "Python 3",
   "language": "python",
   "name": "python3"
  },
  "language_info": {
   "codemirror_mode": {
    "name": "ipython",
    "version": 3
   },
   "file_extension": ".py",
   "mimetype": "text/x-python",
   "name": "python",
   "nbconvert_exporter": "python",
   "pygments_lexer": "ipython3",
   "version": "3.6.4"
  },
  "toc": {
   "nav_menu": {},
   "number_sections": true,
   "sideBar": true,
   "skip_h1_title": false,
   "toc_cell": false,
   "toc_position": {},
   "toc_section_display": "block",
   "toc_window_display": false
  },
  "varInspector": {
   "cols": {
    "lenName": 16,
    "lenType": 16,
    "lenVar": 40
   },
   "kernels_config": {
    "python": {
     "delete_cmd_postfix": "",
     "delete_cmd_prefix": "del ",
     "library": "var_list.py",
     "varRefreshCmd": "print(var_dic_list())"
    },
    "r": {
     "delete_cmd_postfix": ") ",
     "delete_cmd_prefix": "rm(",
     "library": "var_list.r",
     "varRefreshCmd": "cat(var_dic_list()) "
    }
   },
   "types_to_exclude": [
    "module",
    "function",
    "builtin_function_or_method",
    "instance",
    "_Feature"
   ],
   "window_display": false
  }
 },
 "nbformat": 4,
 "nbformat_minor": 2
}

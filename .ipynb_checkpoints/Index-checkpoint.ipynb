{
 "cells": [
  {
   "cell_type": "markdown",
   "metadata": {},
   "source": [
    "<div\n",
    "    style='background-image: url(\"images/_banner_.jpg\"); padding: 0px;\n",
    "    background-size: cover; border-radius: 10px; height: 250px;\n",
    "    background-position: 50% 50%'>\n",
    "    <div\n",
    "        style=\"float: left; margin: 20px; padding: 10px;\n",
    "        background: rgba(255 , 255 , 255 , 0.8); width: 40%; height: 100px;\n",
    "        border-radius: 10px\">\n",
    "        <div\n",
    "            style=\"position: relative; top: 50%;\n",
    "            transform: translatey(-50%)\">\n",
    "            <div\n",
    "                style=\"font-size: xx-large; font-weight: 900;\n",
    "                color: rgba(0 , 0 , 0 , 0.9);\n",
    "                line-height: 100%\">Python Workshop\n",
    "            </div>\n",
    "            <div\n",
    "                style=\"font-size: large; padding-top: 20px;\n",
    "                color: rgba(0 , 0 , 0 , 0.7)\">Schedule and Index\n",
    "            </div>\n",
    "        </div>\n",
    "    </div>\n",
    "    <div style=\"float: right; font-size: small;\n",
    "        position: relative; top: 90%; padding: 5px;\n",
    "        background: rgba(255 , 255 , 255 , 0.6); border-top-left-radius: 10px;\n",
    "        color: rgba(0 , 0 , 0 , 1)\">Shahar Shani-Kadmiel, CiTG, TU Delft\n",
    "    </div>\n",
    "</div>"
   ]
  },
  {
   "cell_type": "markdown",
   "metadata": {},
   "source": [
    "***In the past -*** **[Getting ready](Getting_ready.ipynb)** - *Done!*\n",
    "\n",
    "***09:15 - 09:30 -*** **Coffee and Gathering**\n",
    "\n",
    "***09:30 - 11:45 -*** **[Python Crash Course](Python_Crash_Course.ipynb)** *[[Solution]](Python_Crash_Course-with_solutions.ipynb)*\n",
    "\n",
    "***11:45 - 12:30 -*** **Lunch**: Food trucks outside, SPAR, etc...\n",
    "\n",
    "***12:30 - 14:15 - *** **[File Input and Output](FileIO.ipynb)** *[[Solution]](FileIO-with_solutions.ipynb)*\n",
    "\n",
    "***14:15 - 14:30 - *** **Coffee Break**\n",
    "\n",
    "***14:30 - 16:30 - *** **[Summarizing Exercise](Summarizing_exercise.ipynb)** *[[Solution]](Summarizing_exercise-with_solutions.ipynb)*\n",
    "\n",
    "***16:30 - *** **Have a great weekend and don't miss the eclipse!**\n",
    "\n",
    "![eclipse](http://ras.ac.uk/sites/default/files/eclipse_astronomynow_0.jpg)"
   ]
  },
  {
   "cell_type": "code",
   "execution_count": null,
   "metadata": {},
   "outputs": [],
   "source": []
  }
 ],
 "metadata": {
  "kernelspec": {
   "display_name": "Python 3",
   "language": "python",
   "name": "python3"
  },
  "language_info": {
   "codemirror_mode": {
    "name": "ipython",
    "version": 3
   },
   "file_extension": ".py",
   "mimetype": "text/x-python",
   "name": "python",
   "nbconvert_exporter": "python",
   "pygments_lexer": "ipython3",
   "version": "3.6.4"
  },
  "toc": {
   "nav_menu": {},
   "number_sections": true,
   "sideBar": true,
   "skip_h1_title": false,
   "toc_cell": false,
   "toc_position": {},
   "toc_section_display": "block",
   "toc_window_display": false
  },
  "varInspector": {
   "cols": {
    "lenName": 16,
    "lenType": 16,
    "lenVar": 40
   },
   "kernels_config": {
    "python": {
     "delete_cmd_postfix": "",
     "delete_cmd_prefix": "del ",
     "library": "var_list.py",
     "varRefreshCmd": "print(var_dic_list())"
    },
    "r": {
     "delete_cmd_postfix": ") ",
     "delete_cmd_prefix": "rm(",
     "library": "var_list.r",
     "varRefreshCmd": "cat(var_dic_list()) "
    }
   },
   "types_to_exclude": [
    "module",
    "function",
    "builtin_function_or_method",
    "instance",
    "_Feature"
   ],
   "window_display": false
  }
 },
 "nbformat": 4,
 "nbformat_minor": 1
}

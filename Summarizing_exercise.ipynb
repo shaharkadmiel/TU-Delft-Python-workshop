{
 "cells": [
  {
   "cell_type": "markdown",
   "metadata": {
    "ExecuteTime": {
     "end_time": "2018-07-23T09:17:57.442648Z",
     "start_time": "2018-07-23T09:17:57.417429Z"
    }
   },
   "source": [
    "<div\n",
    "    style='background-image: url(\"images/_banner_.jpg\"); padding: 0px;\n",
    "    background-size: cover; border-radius: 10px; height: 250px;\n",
    "    background-position: 50% 50%'>\n",
    "    <div\n",
    "        style=\"float: left; margin: 20px; padding: 10px;\n",
    "        background: rgba(255 , 255 , 255 , 0.8); width: 40%; height: 100px;\n",
    "        border-radius: 10px\">\n",
    "        <div\n",
    "            style=\"position: relative; top: 50%;\n",
    "            transform: translatey(-50%)\">\n",
    "            <div\n",
    "                style=\"font-size: xx-large; font-weight: 900;\n",
    "                color: rgba(0 , 0 , 0 , 0.9);\n",
    "                line-height: 100%\">Python Workshop\n",
    "            </div>\n",
    "            <div\n",
    "                style=\"font-size: large; padding-top: 20px;\n",
    "                color: rgba(0 , 0 , 0 , 0.7)\">Summarizing exercise\n",
    "            </div>\n",
    "        </div>\n",
    "    </div>\n",
    "    <div style=\"float: right; font-size: small;\n",
    "        position: relative; top: 90%; padding: 5px;\n",
    "        background: rgba(255 , 255 , 255 , 0.6); border-top-left-radius: 10px;\n",
    "        color: rgba(0 , 0 , 0 , 1)\">Shahar Shani-Kadmiel, CiTG, TU Delft\n",
    "    </div>\n",
    "</div>"
   ]
  },
  {
   "cell_type": "markdown",
   "metadata": {},
   "source": [
    "## Wrapping it all up\n",
    "\n",
    "We will now put all the pieces together into a working, reusable workflow."
   ]
  },
  {
   "cell_type": "code",
   "execution_count": null,
   "metadata": {
    "ExecuteTime": {
     "end_time": "2018-07-25T09:11:01.820897Z",
     "start_time": "2018-07-25T09:10:59.817556Z"
    }
   },
   "outputs": [],
   "source": [
    "# some inports that we are going to need\n",
    "%matplotlib inline\n",
    "from mpl_toolkits.basemap import Basemap\n",
    "import matplotlib.pyplot as plt\n",
    "import numpy as np\n",
    "import obspy\n",
    "import os"
   ]
  },
  {
   "cell_type": "markdown",
   "metadata": {},
   "source": [
    "Beam-forming is a process in which array waveform data is steered so that the best beam is resolved. In this process, the back-azimuth and apparent velocity are retrieved as well.\n",
    "\n",
    "The data in `'data/IM.I53US.jtdfd'` contains results from such a process along with some metadata in the header of the file, documenting the configuration used for the algorithm and some extended information. The structure of the file is as follows:\n",
    "\n",
    "* A header with ***l*** lines, each starting with a `'#'` character\n",
    "* A data section with ***m*** line and ***n*** columns\n",
    "\n",
    "The data section of this file can be read with `numpy.loadtxt`. In this exercise we are only interested in the first 4 columns:\n",
    "\n",
    "* time, s\n",
    "* Fisher ratio\n",
    "* back-azimuth, °\n",
    "* apparent velocity, m/s\n",
    "\n",
    "---\n",
    "### Step 1\n",
    "\n",
    "Load the data section as 4 vectors into `time`, `fratio`, `baz`, and `app_vel` variables:"
   ]
  },
  {
   "cell_type": "code",
   "execution_count": null,
   "metadata": {
    "ExecuteTime": {
     "end_time": "2018-07-25T09:11:56.184649Z",
     "start_time": "2018-07-25T09:11:56.098509Z"
    }
   },
   "outputs": [],
   "source": [
    "# your code here: 1 line\n"
   ]
  },
  {
   "cell_type": "markdown",
   "metadata": {},
   "source": [
    "### Step 2\n",
    "\n",
    "Write a line parser to extract the name and values of each header line. Try to make it flexible so that numbers that should be converted to `float`s are taken care of."
   ]
  },
  {
   "cell_type": "code",
   "execution_count": null,
   "metadata": {
    "ExecuteTime": {
     "end_time": "2018-07-25T09:14:20.483040Z",
     "start_time": "2018-07-25T09:14:20.444614Z"
    }
   },
   "outputs": [],
   "source": [
    "# %load SumEx.line_parser.solution\n",
    "# here are three different lines to consider:\n",
    "line1 = '# distance = 984.9975957679702'\n",
    "line2 = '# station = (64.866929, -147.85810087500002, 175.0625)'\n",
    "line3 = '# bestbeam = IM.I53US.BB.sac'\n",
    "\n",
    "def line_parser(line):\n",
    "    # your code here: (approx 8 lines)\n",
    "    \n",
    "    \n",
    "    \n",
    "    \n",
    "    \n",
    "    \n",
    "    \n",
    "    \n",
    "    \n",
    "    # end your code\n",
    "    return key, value\n",
    "\n",
    "for line in (line1, line2, line3):\n",
    "    print(line_parser(line))"
   ]
  },
  {
   "cell_type": "markdown",
   "metadata": {},
   "source": [
    "### Step 3\n",
    "\n",
    "Think of a data structure that will hold the header and data sections together inside one object. As mentioned earlier, a *dictionary* is a good start but we are going to want to add some plotting functionality so designing our own *class*  is a better choice.\n",
    "\n",
    "Use the structure below to populate it with the header info and data columns.\n",
    "\n",
    "1. Start by adjusting the `line_parser` function to be a *private class method*.\n",
    "\n",
    "Private class methods have a leading underscore (`'_'`) in their name. This is to tell the user that it should not be used directly but rather called by a public method.\n",
    "\n",
    "**Remember** that methods (functions attached to objects) have the `self` keyword as the first argument.\n",
    "\n",
    "2. Next, add code to the `__init__` to populate the class:\n",
    "\n",
    "The code should read the header part of the file and extract the header information, using the `line_parser` method and populate the `self.time`, `self.fratio`, `self.baz`, and `self.app_vel` attributes of the class.\n",
    "\n",
    "**Remember:** There are ***l*** (unknown) line of header. However, it is known that each header line starts with a `'#'` character and they are all at the top of the file."
   ]
  },
  {
   "cell_type": "code",
   "execution_count": null,
   "metadata": {
    "ExecuteTime": {
     "end_time": "2018-07-25T09:17:48.075950Z",
     "start_time": "2018-07-25T09:17:47.987574Z"
    }
   },
   "outputs": [],
   "source": [
    "# %load BestBeam.class1.solution\n",
    "class BestBeam():\n",
    "    \"\"\"\n",
    "    Class to handle beamforming results.\n",
    "    \"\"\"\n",
    "    \n",
    "    def __init__(self, filename):\n",
    "        \"\"\"\n",
    "        Constructor of the object.\n",
    "        \n",
    "        Parameters\n",
    "        ----------\n",
    "        filename : str\n",
    "            Path (relative or absolute) to the filename.\n",
    "        \"\"\"\n",
    "        \n",
    "        self.filename = filename\n",
    "        \n",
    "        # **Part 2:** your code here: (approx 8 lines)\n",
    "        \n",
    "        \n",
    "        \n",
    "        \n",
    "        \n",
    "        \n",
    "        \n",
    "        \n",
    "        \n",
    "        # end of part 2\n",
    "        \n",
    "    def _line_parser(self, line):\n",
    "        # **Part 1:** your code here: (approx 9 lines)\n",
    "        \n",
    "        \n",
    "        \n",
    "        \n",
    "        \n",
    "        \n",
    "        \n",
    "        \n",
    "        \n",
    "        \n",
    "        # end of part 1\n",
    "        \n",
    "BestBeam('data/IM.I53US.jtdfd')"
   ]
  },
  {
   "cell_type": "code",
   "execution_count": null,
   "metadata": {
    "ExecuteTime": {
     "end_time": "2018-07-25T09:18:02.124318Z",
     "start_time": "2018-07-25T09:18:02.043497Z"
    }
   },
   "outputs": [],
   "source": [
    "bb = BestBeam('data/IM.I53US.jtdfd')\n",
    "bb"
   ]
  },
  {
   "cell_type": "markdown",
   "metadata": {},
   "source": [
    "### Step 4\n",
    "\n",
    "Read the best beam:\n",
    "\n",
    "The best beam is a SAC file containing the waveform retrieved in the beam-forming process. There is a comprehensive toolkit for handling waveform data, [ObsPy](https://github.com/obspy/obspy/wiki). If you work with waveform data, this is the package for you.\n",
    "\n",
    "Reading waveform data with ObsPy is as simple as [`obspy.read()`](http://docs.obspy.org/packages/autogen/obspy.core.stream.read.html#obspy.core.stream.read). "
   ]
  },
  {
   "cell_type": "code",
   "execution_count": null,
   "metadata": {
    "ExecuteTime": {
     "end_time": "2018-07-25T09:18:14.664302Z",
     "start_time": "2018-07-25T09:18:14.043568Z"
    }
   },
   "outputs": [],
   "source": [
    "bb_wf = obspy.read('data/IM.I53US.BB.sac')\n",
    "print(bb_wf)\n",
    "bb_wf.plot()"
   ]
  },
  {
   "cell_type": "markdown",
   "metadata": {},
   "source": [
    "But it would be nice if this waveform data was also part of the class:\n",
    "\n",
    "Note that the header contained information about the *bestbeam* file. The only thing is that this file location is relative to the location of the output file we pass to the `BestBeam` class."
   ]
  },
  {
   "cell_type": "code",
   "execution_count": null,
   "metadata": {
    "ExecuteTime": {
     "end_time": "2018-07-25T09:18:30.702997Z",
     "start_time": "2018-07-25T09:18:30.459899Z"
    }
   },
   "outputs": [],
   "source": [
    "print(bb.bestbeam)\n",
    "obspy.read(bb.bestbeam)"
   ]
  },
  {
   "cell_type": "markdown",
   "metadata": {},
   "source": [
    "We need to follow the path from the location of the output file:"
   ]
  },
  {
   "cell_type": "code",
   "execution_count": null,
   "metadata": {
    "ExecuteTime": {
     "end_time": "2018-07-25T09:18:38.420480Z",
     "start_time": "2018-07-25T09:18:38.379734Z"
    }
   },
   "outputs": [],
   "source": [
    "# if out outfile is:\n",
    "filename = 'data/IM.I53US.jtdfd'\n",
    "\n",
    "# we can split it to a ``path`` part and a ``file`` part:\n",
    "path, file = os.path.split(filename)\n",
    "print(path, file)\n",
    "\n",
    "# we can check if the ``bestbeam`` file exists in that path:\n",
    "print(os.path.exists(os.path.join(self.path, bb.bestbeam)))\n",
    "\n",
    "# or even list the contents of that path:\n",
    "os.listdir(path)"
   ]
  },
  {
   "cell_type": "markdown",
   "metadata": {},
   "source": [
    "Let's use that to read the best beam as part of the `__init__`."
   ]
  },
  {
   "cell_type": "code",
   "execution_count": null,
   "metadata": {
    "ExecuteTime": {
     "end_time": "2018-07-25T09:19:49.388905Z",
     "start_time": "2018-07-25T09:19:49.349066Z"
    }
   },
   "outputs": [],
   "source": [
    "# %load BestBeam.class2.solution\n",
    "class BestBeam():\n",
    "    \"\"\"\n",
    "    Class to handle beamforming results.\n",
    "    \"\"\"\n",
    "    \n",
    "    def __init__(self, filename):\n",
    "        \"\"\"\n",
    "        Constructor of the object.\n",
    "        \n",
    "        Parameters\n",
    "        ----------\n",
    "        filename : str\n",
    "            Path (relative or absolute) to the filename.\n",
    "        \"\"\"\n",
    "        \n",
    "        self.filename = filename\n",
    "        self.path, self.file = os.path.split(filename)  # get the relative path\n",
    "        with open(filename) as f:\n",
    "            for line in f:\n",
    "                line = line.strip()  # get rid of whitespace at start and end\n",
    "                if line.startswith('#'):\n",
    "                    self._line_parser(line)\n",
    "                else:\n",
    "                    break\n",
    "                    \n",
    "        self.time, self.fratio, self.baz, self.app_vel = np.loadtxt(\n",
    "            filename, usecols=range(4)).T\n",
    "        \n",
    "        # your code here: (1 line)\n",
    "        \n",
    "        \n",
    "        \n",
    "    def _line_parser(self, line):\n",
    "        key, value = [item.strip('# ') for item in line.split('=')]\n",
    "        try:  # convert single float value\n",
    "            value = float(value)\n",
    "        except ValueError:  # convert multiple float values\n",
    "            try:\n",
    "                value = [float(item.strip('() ')) for item in value.split(',')]\n",
    "            except ValueError:  # leave as tring\n",
    "                pass\n",
    "\n",
    "        vars(self)[key] = value"
   ]
  },
  {
   "cell_type": "code",
   "execution_count": null,
   "metadata": {
    "ExecuteTime": {
     "end_time": "2018-07-25T09:19:50.570715Z",
     "start_time": "2018-07-25T09:19:50.485915Z"
    }
   },
   "outputs": [],
   "source": [
    "bb = BestBeam('data/IM.I53US.jtdfd')\n",
    "bb.bb_wf"
   ]
  },
  {
   "cell_type": "markdown",
   "metadata": {},
   "source": [
    "**That is it**, in terms of data population of the structure we are done. We can now access the data in the class and use it for visualization. It would be nice, however, to add this functionality as a *class method*.\n",
    "\n",
    "---"
   ]
  },
  {
   "cell_type": "markdown",
   "metadata": {},
   "source": [
    "### Step 5\n",
    "\n",
    "1. Write a class method to plot the best beam, back-azimuth, apparent velocity and Fisher ratio as a function of time in separate row panels.\n",
    "\n",
    "2. Write a class method to plot the source and station on a map."
   ]
  },
  {
   "cell_type": "code",
   "execution_count": null,
   "metadata": {
    "ExecuteTime": {
     "end_time": "2018-07-25T09:25:28.436120Z",
     "start_time": "2018-07-25T09:25:28.385209Z"
    }
   },
   "outputs": [],
   "source": [
    "# %load BestBeam.class3.solution\n",
    "class BestBeam():\n",
    "    \"\"\"\n",
    "    Class to handle beamforming results.\n",
    "    \"\"\"\n",
    "    \n",
    "    def __init__(self, filename):\n",
    "        \"\"\"\n",
    "        Constructor of the object.\n",
    "        \n",
    "        Parameters\n",
    "        ----------\n",
    "        filename : str\n",
    "            Path (relative or absolute) to the filename.\n",
    "        \"\"\"\n",
    "        \n",
    "        self.filename = filename\n",
    "        self.path, self.file = os.path.split(filename)  # get the relative path\n",
    "        with open(filename) as f:\n",
    "            for line in f:\n",
    "                line = line.strip()  # get rid of whitespace at start and end\n",
    "                if line.startswith('#'):\n",
    "                    self._line_parser(line)\n",
    "                else:\n",
    "                    break\n",
    "                    \n",
    "        self.time, self.fratio, self.baz, self.app_vel = np.loadtxt(\n",
    "            filename, usecols=range(4)).T\n",
    "        \n",
    "        self.bb_wf = obspy.read(os.path.join(self.path, self.bestbeam))[0]\n",
    "        \n",
    "    def _line_parser(self, line):\n",
    "        key, value = [item.strip('# ') for item in line.split('=')]\n",
    "        try:  # convert single float value\n",
    "            value = float(value)\n",
    "        except ValueError:  # convert multiple float values\n",
    "            try:\n",
    "                value = [float(item.strip('() ')) for item in value.split(',')]\n",
    "            except ValueError:  # leave as tring\n",
    "                pass\n",
    "\n",
    "        vars(self)[key] = value\n",
    "        \n",
    "    def plot_data(self, sort_by='fratio', s=5, cmap='inferno_r',\n",
    "                  **kwargs):\n",
    "        \n",
    "        # your code here: (approx 12 lines)\n",
    "        \n",
    "        \n",
    "        \n",
    "        \n",
    "        \n",
    "        \n",
    "        \n",
    "        \n",
    "        \n",
    "        \n",
    "        \n",
    "        \n",
    "        \n",
    "        # end your code\n",
    "        return fig, ax\n",
    "    \n",
    "    def plot_map(self, projection='aea', wfactor=1, hfactor=1,\n",
    "                 meridians_every=5, parallels_every=5):\n",
    "        \n",
    "        fig, ax = plt.subplots(figsize=(8, 8))\n",
    "        station_lat, station_lon, station_elev = self.station\n",
    "        source_lat, source_lon, source_depth, magnitude = self.source\n",
    "        lat_0 = 0.5 * (station_lat + source_lat)\n",
    "        lon_0 = 0.5 * (station_lon + source_lon)\n",
    "\n",
    "        m = Basemap(\n",
    "            lon_0=lon_0, lat_0=lat_0,\n",
    "            width=wfactor * 1.5 * self.distance * 1e3,\n",
    "            height=hfactor * 1.5 * self.distance * 1e3,\n",
    "            projection=projection, resolution='c'\n",
    "        )\n",
    "        \n",
    "        m.etopo(zorder=0, interpolation='bilinear')\n",
    "        m.drawmeridians(\n",
    "            np.arange(round(m.lonmin, -1),\n",
    "                      round(m.lonmax, -1),\n",
    "                      meridians_every), labels=(0,0,1,1), labelstyle=\"+/-\"\n",
    "        )\n",
    "        m.drawparallels(\n",
    "            np.arange(round(m.latmin, -1),\n",
    "                      round(m.latmax, -1),\n",
    "                      parallels_every), labels=(1,1,0,0), labelstyle=\"+/-\"\n",
    "        )\n",
    "\n",
    "        # your code here: (approx 7 lines)\n",
    "        \n",
    "        \n",
    "        \n",
    "        \n",
    "        \n",
    "        \n",
    "        \n",
    "        \n",
    "        # end your code\n",
    "        return fig, ax, m"
   ]
  },
  {
   "cell_type": "code",
   "execution_count": null,
   "metadata": {
    "ExecuteTime": {
     "end_time": "2018-07-25T09:25:41.603164Z",
     "start_time": "2018-07-25T09:25:38.303073Z"
    },
    "scrolled": false
   },
   "outputs": [],
   "source": [
    "bb = BestBeam('data/IM.I53US.jtdfd')\n",
    "fig, ax, m = bb.plot_map(wfactor=2, parallels_every=2.5)"
   ]
  },
  {
   "cell_type": "code",
   "execution_count": null,
   "metadata": {
    "ExecuteTime": {
     "end_time": "2018-07-25T09:25:54.423125Z",
     "start_time": "2018-07-25T09:25:52.174383Z"
    }
   },
   "outputs": [],
   "source": [
    "bb = BestBeam('data/IM.I53US.jtdfd')\n",
    "bb.plot_data(vmin=3, vmax=7)"
   ]
  }
 ],
 "metadata": {
  "kernelspec": {
   "display_name": "Python 3",
   "language": "python",
   "name": "python3"
  },
  "language_info": {
   "codemirror_mode": {
    "name": "ipython",
    "version": 3
   },
   "file_extension": ".py",
   "mimetype": "text/x-python",
   "name": "python",
   "nbconvert_exporter": "python",
   "pygments_lexer": "ipython3",
   "version": "3.6.4"
  },
  "toc": {
   "nav_menu": {},
   "number_sections": true,
   "sideBar": true,
   "skip_h1_title": false,
   "toc_cell": false,
   "toc_position": {},
   "toc_section_display": "block",
   "toc_window_display": false
  },
  "varInspector": {
   "cols": {
    "lenName": 16,
    "lenType": 16,
    "lenVar": 40
   },
   "kernels_config": {
    "python": {
     "delete_cmd_postfix": "",
     "delete_cmd_prefix": "del ",
     "library": "var_list.py",
     "varRefreshCmd": "print(var_dic_list())"
    },
    "r": {
     "delete_cmd_postfix": ") ",
     "delete_cmd_prefix": "rm(",
     "library": "var_list.r",
     "varRefreshCmd": "cat(var_dic_list()) "
    }
   },
   "types_to_exclude": [
    "module",
    "function",
    "builtin_function_or_method",
    "instance",
    "_Feature"
   ],
   "window_display": false
  }
 },
 "nbformat": 4,
 "nbformat_minor": 2
}
